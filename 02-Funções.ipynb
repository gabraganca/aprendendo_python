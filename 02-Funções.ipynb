{
 "cells": [
  {
   "cell_type": "markdown",
   "metadata": {},
   "source": [
    "# Funções"
   ]
  },
  {
   "cell_type": "markdown",
   "metadata": {},
   "source": [
    "Uma função é uma sub-rotina definida previamente com um nome específico e que pode ser chamada em mais de um ponto do programa. Até agora, vimos duas funções:\n",
    "* `print`, que imprime na tela a informação passada.\n",
    "* `type` que obtém o tipo de dado da informação passada.\n",
    "\n",
    "Das vezes que usamos funções, nós passamos um argumento para ela e recebemos o resultado. Por exemplo:"
   ]
  },
  {
   "cell_type": "code",
   "execution_count": 1,
   "metadata": {},
   "outputs": [
    {
     "data": {
      "text/plain": [
       "int"
      ]
     },
     "execution_count": 1,
     "metadata": {},
     "output_type": "execute_result"
    }
   ],
   "source": [
    "type(42)"
   ]
  },
  {
   "cell_type": "markdown",
   "metadata": {},
   "source": [
    "Chamamos a função `type` e passamos o argumento `42`. Após a execução da função, ela nos retornou o valor `int`."
   ]
  },
  {
   "cell_type": "markdown",
   "metadata": {},
   "source": [
    "Além de um valor, podemos usar uma variável já definida como argumento da função:"
   ]
  },
  {
   "cell_type": "code",
   "execution_count": 2,
   "metadata": {},
   "outputs": [
    {
     "data": {
      "text/plain": [
       "int"
      ]
     },
     "execution_count": 2,
     "metadata": {},
     "output_type": "execute_result"
    }
   ],
   "source": [
    "x = 42\n",
    "type(x)"
   ]
  },
  {
   "cell_type": "markdown",
   "metadata": {},
   "source": [
    "Podemos atribuir o resultado de funções à variáveis:"
   ]
  },
  {
   "cell_type": "code",
   "execution_count": 3,
   "metadata": {},
   "outputs": [
    {
     "name": "stdout",
     "output_type": "stream",
     "text": [
      "<class 'int'>\n"
     ]
    }
   ],
   "source": [
    "meu_tipo = type(x)\n",
    "print(meu_tipo)"
   ]
  },
  {
   "cell_type": "markdown",
   "metadata": {},
   "source": [
    "Algumas funções não retornam nada. Neste caso, ao atribuirmo o resultado da execução destas funções à variáveis, elas recebem o valor especial `None`:"
   ]
  },
  {
   "cell_type": "code",
   "execution_count": 4,
   "metadata": {},
   "outputs": [
    {
     "name": "stdout",
     "output_type": "stream",
     "text": [
      "resultado\n"
     ]
    }
   ],
   "source": [
    "resultado = print('resultado')"
   ]
  },
  {
   "cell_type": "code",
   "execution_count": 5,
   "metadata": {},
   "outputs": [
    {
     "name": "stdout",
     "output_type": "stream",
     "text": [
      "None\n"
     ]
    }
   ],
   "source": [
    "print(resultado)"
   ]
  },
  {
   "cell_type": "markdown",
   "metadata": {},
   "source": [
    "Assim como as variáveis, as funções devem ter sido definidas previamente para serem executadas. Se não, o Python mostra a exceção `NameError`:"
   ]
  },
  {
   "cell_type": "code",
   "execution_count": 6,
   "metadata": {
    "tags": [
     "raises-exception"
    ]
   },
   "outputs": [
    {
     "ename": "NameError",
     "evalue": "name 'minha_funcao' is not defined",
     "output_type": "error",
     "traceback": [
      "\u001b[0;31m---------------------------------------------------------------------------\u001b[0m",
      "\u001b[0;31mNameError\u001b[0m                                 Traceback (most recent call last)",
      "\u001b[0;32m<ipython-input-6-89122eda3537>\u001b[0m in \u001b[0;36m<module>\u001b[0;34m\u001b[0m\n\u001b[0;32m----> 1\u001b[0;31m \u001b[0mminha_funcao\u001b[0m\u001b[0;34m(\u001b[0m\u001b[0;34m)\u001b[0m\u001b[0;34m\u001b[0m\u001b[0;34m\u001b[0m\u001b[0m\n\u001b[0m",
      "\u001b[0;31mNameError\u001b[0m: name 'minha_funcao' is not defined"
     ]
    }
   ],
   "source": [
    "minha_funcao()"
   ]
  },
  {
   "cell_type": "markdown",
   "metadata": {},
   "source": [
    "## Definindo funções"
   ]
  },
  {
   "cell_type": "markdown",
   "metadata": {},
   "source": [
    "Assim, há três formas para que as funções sejam definidas:\n",
    "1. Ao iniciar o Python, algumas funcões como `print` já são iniciadas.\n",
    "1. Importando-as.\n",
    "1. Definindo-as nós mesmos."
   ]
  },
  {
   "cell_type": "markdown",
   "metadata": {},
   "source": [
    "### Importando funções"
   ]
  },
  {
   "cell_type": "markdown",
   "metadata": {},
   "source": [
    "É comum estruturar funções similares em módulos, ás vezes também chamadas de bibliotecas. Por exemplo, o Python já vêm com um módulo de funções matemáticas (`math`) que podemos trazer para o escopo da nosso programa. Para isso, devemos usar o comando `import`:"
   ]
  },
  {
   "cell_type": "code",
   "execution_count": 7,
   "metadata": {},
   "outputs": [],
   "source": [
    "import math"
   ]
  },
  {
   "cell_type": "code",
   "execution_count": 8,
   "metadata": {},
   "outputs": [
    {
     "data": {
      "text/plain": [
       "<module 'math' from '/home/gbra/anaconda3/lib/python3.7/lib-dynload/math.cpython-37m-x86_64-linux-gnu.so'>"
      ]
     },
     "execution_count": 8,
     "metadata": {},
     "output_type": "execute_result"
    }
   ],
   "source": [
    "math"
   ]
  },
  {
   "cell_type": "markdown",
   "metadata": {},
   "source": [
    "Vemos que o módulo `math` foi importado e para acessar as funções contidas neste módulo, nós usamos a notação de ponto, em que usamos o nome do módulo mais um ponto mais o nome da função. Por exemplo, para usar a função seno (`sin`), fazemos o seguinte:"
   ]
  },
  {
   "cell_type": "code",
   "execution_count": 9,
   "metadata": {},
   "outputs": [
    {
     "data": {
      "text/plain": [
       "1.0"
      ]
     },
     "execution_count": 9,
     "metadata": {},
     "output_type": "execute_result"
    }
   ],
   "source": [
    "pi = 3.141592653589793\n",
    "math.sin(pi / 2) "
   ]
  },
  {
   "cell_type": "markdown",
   "metadata": {},
   "source": [
    "Aqui, importamos todo o módulo `math`. Pode haver casos em que desejamos importar funções específicas. Desta forma, usamos a seguinte expressão:"
   ]
  },
  {
   "cell_type": "code",
   "execution_count": 10,
   "metadata": {},
   "outputs": [
    {
     "data": {
      "text/plain": [
       "6.123233995736766e-17"
      ]
     },
     "execution_count": 10,
     "metadata": {},
     "output_type": "execute_result"
    }
   ],
   "source": [
    "from math import cos # importa a função cosseno do módulo matemático\n",
    "\n",
    "math.cos(pi / 2)"
   ]
  },
  {
   "cell_type": "markdown",
   "metadata": {},
   "source": [
    "Também é possível importar todas as funções do módulo matemático usando o `*`, na forma:\n",
    "\n",
    "```python\n",
    "from math import *\n",
    "```\n",
    "\n",
    "Porém deve ser evitado pois dificulta identificar a origem da função usada e pode sobrescrever funções já definidas:"
   ]
  },
  {
   "cell_type": "markdown",
   "metadata": {},
   "source": [
    "### Definindo funções nós mesmos"
   ]
  },
  {
   "cell_type": "markdown",
   "metadata": {},
   "source": [
    "E é claro que também podemos criar nossas próprias funções. Para isso, usamos a palavra reservada `def`:"
   ]
  },
  {
   "cell_type": "code",
   "execution_count": 11,
   "metadata": {},
   "outputs": [
    {
     "data": {
      "text/plain": [
       "5"
      ]
     },
     "execution_count": 11,
     "metadata": {},
     "output_type": "execute_result"
    }
   ],
   "source": [
    "def some(x, y):\n",
    "    resultado = x + y\n",
    "    return resultado\n",
    "    \n",
    "some(2, 3)"
   ]
  },
  {
   "cell_type": "markdown",
   "metadata": {},
   "source": [
    "Apesar da função ser curta, temos muitas coisas acontecendo aqui:\n",
    "1. definimos uma função usando `def` chamada `some`,\n",
    "1. os parênteses são usados para definir argumentos que a função recebe. Neste caso, a função recebe dois argumentos `x` e `y`,\n",
    "1. todo o conteúdo da função está recuado (indentado) em exatos 4 caracteres. Esta é a forma que o Python reconhece o bloco de uma função. Outras linguagens de programação costumar usar parênteses ou chaves.\n",
    "1. calculamos a soma e atribuimos a uma variável. \n",
    "1. retornamos a variável. "
   ]
  },
  {
   "cell_type": "markdown",
   "metadata": {},
   "source": [
    "Também podemos definir funções que não aceitam nenhum argumento de entrada e que não retornam nenhum resultado."
   ]
  },
  {
   "cell_type": "code",
   "execution_count": 12,
   "metadata": {},
   "outputs": [
    {
     "name": "stdout",
     "output_type": "stream",
     "text": [
      "Hello, World!\n"
     ]
    }
   ],
   "source": [
    "def ola_mundo():\n",
    "    print('Hello, World!')\n",
    "    \n",
    "ola_mundo()"
   ]
  },
  {
   "cell_type": "markdown",
   "metadata": {},
   "source": [
    "Dento do Python, as funções são definidas com o tipo `function`:"
   ]
  },
  {
   "cell_type": "code",
   "execution_count": 13,
   "metadata": {},
   "outputs": [
    {
     "name": "stdout",
     "output_type": "stream",
     "text": [
      "<class 'function'>\n"
     ]
    }
   ],
   "source": [
    "print(type(ola_mundo))"
   ]
  },
  {
   "cell_type": "markdown",
   "metadata": {},
   "source": [
    "A função `ola_mundo`, apesar de simples, possui uma característica interessante que é chamar uma função dentro de outra. Isso nos dá a oportunidade de escrever programas mais modulares."
   ]
  },
  {
   "cell_type": "code",
   "execution_count": 14,
   "metadata": {},
   "outputs": [
    {
     "data": {
      "text/plain": [
       "6"
      ]
     },
     "execution_count": 14,
     "metadata": {},
     "output_type": "execute_result"
    }
   ],
   "source": [
    "def some_tres(x, y, z):\n",
    "    primeira_soma = some(x, y)\n",
    "    soma_final = some(primeira_soma, z)\n",
    "    return soma_final\n",
    "\n",
    "some_tres(1, 2, 3)"
   ]
  },
  {
   "cell_type": "markdown",
   "metadata": {},
   "source": [
    "Claro que, para realizar a soma de três números, escreveríamos algo mais simples:\n",
    "\n",
    "```python\n",
    "def some_tres(x, y, z):\n",
    "    return x + y + z\n",
    "```"
   ]
  },
  {
   "cell_type": "markdown",
   "metadata": {},
   "source": [
    "## Escopo"
   ]
  },
  {
   "cell_type": "markdown",
   "metadata": {},
   "source": [
    "As variáveis criadas dentro de uma função estão dentro do **escopo local** da função enquanto variávies definidas no corpo do programa estão no **escopo global**. \n",
    "\n",
    "Não podemos acessar variáveis definidas dentro das funções de fora delas, pois elas estarão **fora de escopo** e o programa retornará um erro do tipo `NameError`, apontando que a variável não está definida: "
   ]
  },
  {
   "cell_type": "code",
   "execution_count": 15,
   "metadata": {},
   "outputs": [
    {
     "data": {
      "text/plain": [
       "42"
      ]
     },
     "execution_count": 15,
     "metadata": {},
     "output_type": "execute_result"
    }
   ],
   "source": [
    "def teste_escopo():\n",
    "    escopo_local_var = 42\n",
    "    return escopo_local_var\n",
    "\n",
    "teste_escopo()"
   ]
  },
  {
   "cell_type": "code",
   "execution_count": 16,
   "metadata": {
    "tags": [
     "raises-exception"
    ]
   },
   "outputs": [
    {
     "ename": "NameError",
     "evalue": "name 'escopo_local_var' is not defined",
     "output_type": "error",
     "traceback": [
      "\u001b[0;31m---------------------------------------------------------------------------\u001b[0m",
      "\u001b[0;31mNameError\u001b[0m                                 Traceback (most recent call last)",
      "\u001b[0;32m<ipython-input-16-3b2345839d65>\u001b[0m in \u001b[0;36m<module>\u001b[0;34m\u001b[0m\n\u001b[0;32m----> 1\u001b[0;31m \u001b[0mescopo_local_var\u001b[0m \u001b[0;31m# Esta variável se encontra apenas no escopo local da função.\u001b[0m\u001b[0;34m\u001b[0m\u001b[0;34m\u001b[0m\u001b[0m\n\u001b[0m",
      "\u001b[0;31mNameError\u001b[0m: name 'escopo_local_var' is not defined"
     ]
    }
   ],
   "source": [
    "escopo_local_var # Esta variável se encontra apenas no escopo local da função."
   ]
  },
  {
   "cell_type": "markdown",
   "metadata": {},
   "source": [
    "Porém, podemos acessar variáveis definidas no escopo global de dentro de funções:"
   ]
  },
  {
   "cell_type": "code",
   "execution_count": 17,
   "metadata": {},
   "outputs": [
    {
     "data": {
      "text/plain": [
       "6.283185307179586"
      ]
     },
     "execution_count": 17,
     "metadata": {},
     "output_type": "execute_result"
    }
   ],
   "source": [
    "pi = math.pi\n",
    "\n",
    "def calcula_circunferencia(raio):\n",
    "    return 2 * pi * raio\n",
    "\n",
    "calcula_circunferencia(raio=1)"
   ]
  },
  {
   "cell_type": "code",
   "execution_count": null,
   "metadata": {},
   "outputs": [],
   "source": []
  }
 ],
 "metadata": {
  "kernelspec": {
   "display_name": "Python 3",
   "language": "python",
   "name": "python3"
  },
  "language_info": {
   "codemirror_mode": {
    "name": "ipython",
    "version": 3
   },
   "file_extension": ".py",
   "mimetype": "text/x-python",
   "name": "python",
   "nbconvert_exporter": "python",
   "pygments_lexer": "ipython3",
   "version": "3.7.6"
  }
 },
 "nbformat": 4,
 "nbformat_minor": 4
}
