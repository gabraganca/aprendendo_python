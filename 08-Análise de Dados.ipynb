{
 "cells": [
  {
   "cell_type": "markdown",
   "metadata": {},
   "source": [
    "# Análise de Dados"
   ]
  },
  {
   "cell_type": "markdown",
   "metadata": {},
   "source": [
    "## NumPy "
   ]
  },
  {
   "cell_type": "markdown",
   "metadata": {},
   "source": [
    "### Definições"
   ]
  },
  {
   "cell_type": "markdown",
   "metadata": {},
   "source": [
    "A biblioteca `NumPy` é a biblioteca padrão para computação científica com Python pois ela fornece uma estrutura de dados chamado `ndarray` que permite realizar cálculos multidimensional de forma rápida e eficiente. Por esta razão, muitas bibliotecas de análise e visualização de dados foram construídas usando recursos do `NumPy`.\n",
    "\n",
    "Por convenção, importamos a biblioteca `NumPy` da seguinte forma: "
   ]
  },
  {
   "cell_type": "code",
   "execution_count": null,
   "metadata": {},
   "outputs": [],
   "source": [
    "import numpy as np"
   ]
  },
  {
   "cell_type": "markdown",
   "metadata": {},
   "source": [
    "Para criarmos um objeto do tipo `ndarray` basta chamarmos a função `np.array` e passar uma lista de números."
   ]
  },
  {
   "cell_type": "code",
   "execution_count": null,
   "metadata": {},
   "outputs": [],
   "source": [
    "arr = np.array([1,2,3])\n",
    "\n",
    "print(arr)"
   ]
  },
  {
   "cell_type": "markdown",
   "metadata": {},
   "source": [
    "Ao imprimir o tipo, vemos que é do tipo `numpy.ndarray`:"
   ]
  },
  {
   "cell_type": "code",
   "execution_count": null,
   "metadata": {},
   "outputs": [],
   "source": [
    "print(type(arr))"
   ]
  },
  {
   "cell_type": "markdown",
   "metadata": {},
   "source": [
    "E o método `shape` nos mostra a dimensão do `array`:"
   ]
  },
  {
   "cell_type": "code",
   "execution_count": null,
   "metadata": {},
   "outputs": [],
   "source": [
    "print(arr.shape)"
   ]
  },
  {
   "cell_type": "markdown",
   "metadata": {},
   "source": [
    "E podemos acessar os dados da mesma forma que fazemos com uma lista"
   ]
  },
  {
   "cell_type": "code",
   "execution_count": null,
   "metadata": {},
   "outputs": [],
   "source": [
    "print(arr[0], arr[1], arr[2])"
   ]
  },
  {
   "cell_type": "markdown",
   "metadata": {},
   "source": [
    "Também é possível substituir uma entrada no nosso `array` da mesma forma que fazemos com listas:"
   ]
  },
  {
   "cell_type": "code",
   "execution_count": null,
   "metadata": {},
   "outputs": [],
   "source": [
    "arr[1] = 5\n",
    "print(arr)"
   ]
  },
  {
   "cell_type": "markdown",
   "metadata": {},
   "source": [
    "Podemos criar um `array` bidimensional: "
   ]
  },
  {
   "cell_type": "code",
   "execution_count": null,
   "metadata": {},
   "outputs": [],
   "source": [
    "arr = np.array(\n",
    "    [\n",
    "        [1,2,3,4], \n",
    "        [5,6,7,8], \n",
    "        [9,10,11,12]\n",
    "    ]\n",
    ")\n",
    "print(arr)"
   ]
  },
  {
   "cell_type": "markdown",
   "metadata": {},
   "source": [
    "E o `shape` deste `array` é `3x4`: 3 linhas e 4 colunas."
   ]
  },
  {
   "cell_type": "code",
   "execution_count": null,
   "metadata": {},
   "outputs": [],
   "source": [
    "print(arr.shape)"
   ]
  },
  {
   "cell_type": "markdown",
   "metadata": {},
   "source": [
    "O `array` foi construído para facilitar o acesso a seus elementos:"
   ]
  },
  {
   "cell_type": "code",
   "execution_count": null,
   "metadata": {},
   "outputs": [],
   "source": [
    "print(arr[1,:]) # Obtém segunda linha"
   ]
  },
  {
   "cell_type": "code",
   "execution_count": null,
   "metadata": {},
   "outputs": [],
   "source": [
    "print(arr[:,1]) # Obtém segunda coluna"
   ]
  },
  {
   "cell_type": "code",
   "execution_count": null,
   "metadata": {},
   "outputs": [],
   "source": [
    "print(arr[1:, 3]) # Obtém elementos da segunda até a última linha da quarta coluna"
   ]
  },
  {
   "cell_type": "code",
   "execution_count": null,
   "metadata": {},
   "outputs": [],
   "source": [
    "print(arr[[0,2], [1]]) # Obtém elementos da primeira e terceira linhas da segunda coluna"
   ]
  },
  {
   "cell_type": "markdown",
   "metadata": {},
   "source": [
    "É possível criar um `array` booleano para usar como máscara para acessar o nosso `array`: "
   ]
  },
  {
   "cell_type": "code",
   "execution_count": null,
   "metadata": {},
   "outputs": [],
   "source": [
    "mask = arr % 2 == 0\n",
    "print(mask)\n",
    "print(arr[mask])"
   ]
  },
  {
   "cell_type": "markdown",
   "metadata": {},
   "source": [
    "Este é um recurso útil para filtrar valores do `array`. E podemos substituir valores baseados em uma condição:"
   ]
  },
  {
   "cell_type": "code",
   "execution_count": null,
   "metadata": {},
   "outputs": [],
   "source": [
    "arr[mask] = 0\n",
    "print(arr)"
   ]
  },
  {
   "cell_type": "markdown",
   "metadata": {},
   "source": [
    "Em um `array`, todos os elementos são do mesmo tipo:"
   ]
  },
  {
   "cell_type": "code",
   "execution_count": null,
   "metadata": {},
   "outputs": [],
   "source": [
    "arr.dtype"
   ]
  },
  {
   "cell_type": "markdown",
   "metadata": {},
   "source": [
    "E ao tentar introduzir um elemento que não é do tipo definido pelo `array`, ele tentará ser convertido"
   ]
  },
  {
   "cell_type": "code",
   "execution_count": null,
   "metadata": {},
   "outputs": [],
   "source": [
    "arr[1,1] = 2.3\n",
    "print(arr)"
   ]
  },
  {
   "cell_type": "markdown",
   "metadata": {},
   "source": [
    "Se tentarmos incluir um tipo que não possa ser convertido, obteremos um erro:"
   ]
  },
  {
   "cell_type": "code",
   "execution_count": null,
   "metadata": {
    "tags": [
     "raises-exception"
    ]
   },
   "outputs": [],
   "source": [
    "arr[1,1] = 'oi'"
   ]
  },
  {
   "cell_type": "markdown",
   "metadata": {},
   "source": [
    "### Operações"
   ]
  },
  {
   "cell_type": "markdown",
   "metadata": {},
   "source": [
    "O `NumPy` foi construído visando acelerar operações matemáticas entre `array`s. Podemos ver as operações básicas que são aplicadas elemento a elemento (*element wise*):"
   ]
  },
  {
   "cell_type": "code",
   "execution_count": null,
   "metadata": {},
   "outputs": [],
   "source": [
    "x = np.array([[1,2],[3,4]], dtype=np.float64)\n",
    "y = np.array([[5,6],[7,8]], dtype=np.float64)\n",
    "\n",
    "\n",
    "print(x+y)\n",
    "print(np.add(x,y))"
   ]
  },
  {
   "cell_type": "code",
   "execution_count": null,
   "metadata": {},
   "outputs": [],
   "source": [
    "print(x-y)\n",
    "print(np.subtract(x,y))"
   ]
  },
  {
   "cell_type": "code",
   "execution_count": null,
   "metadata": {},
   "outputs": [],
   "source": [
    "print(x*y)\n",
    "print(np.multiply(x,y))"
   ]
  },
  {
   "cell_type": "code",
   "execution_count": null,
   "metadata": {},
   "outputs": [],
   "source": [
    "print(x/y)\n",
    "print(np.divide(x,y))"
   ]
  },
  {
   "cell_type": "markdown",
   "metadata": {},
   "source": [
    "Também é possível aplicar uma função a todos os elementos com uma simples chamada de função. Por exemplo, aqui está uma operação de raiz quadrada:"
   ]
  },
  {
   "cell_type": "code",
   "execution_count": null,
   "metadata": {},
   "outputs": [],
   "source": [
    "np.sqrt(x)"
   ]
  },
  {
   "cell_type": "markdown",
   "metadata": {},
   "source": [
    "Também podemos realizar algumas operações em um determinado eixo:"
   ]
  },
  {
   "cell_type": "code",
   "execution_count": null,
   "metadata": {},
   "outputs": [],
   "source": [
    "x"
   ]
  },
  {
   "cell_type": "code",
   "execution_count": null,
   "metadata": {},
   "outputs": [],
   "source": [
    "print(np.sum(x)) # soma todos os elementos\n",
    "print(np.sum(x, axis=0)) # soma as linhas\n",
    "print(np.sum(x, axis=1)) # soma as colunas"
   ]
  },
  {
   "cell_type": "markdown",
   "metadata": {},
   "source": [
    "E podemos realizar operações matemáticas em `array`s de tamanhos diferentes. O `NumPy` *estica* o `arry` menor para ter as mesmas dimensões que o `array` maior para realizar a operação. A figura abaixo obtida do livro [Python Data Science Handbook](https://jakevdp.github.io/PythonDataScienceHandbook/02.05-computation-on-arrays-broadcasting.html) ilustra bem como funciona\n",
    "\n",
    "![Ref: Python Data Science Handbook](https://jakevdp.github.io/PythonDataScienceHandbook/figures/02.05-broadcasting.png)\n",
    "\n",
    "Vamos ver na prática:"
   ]
  },
  {
   "cell_type": "code",
   "execution_count": null,
   "metadata": {},
   "outputs": [],
   "source": [
    "x = np.array([[1,2,3], [4,5,6], [7,8,9], [10, 11, 12]])\n",
    "v = np.array([1, 0, 1])\n",
    "\n",
    "print(x + v)"
   ]
  },
  {
   "cell_type": "markdown",
   "metadata": {},
   "source": [
    "## SciPy"
   ]
  },
  {
   "cell_type": "markdown",
   "metadata": {},
   "source": [
    "`SciPy` é uma biblioteca com recursos matemáticos que extende as funcionalidades do `NumPy`, como por exemplo:\n",
    "\n",
    "* [Álgebra linear](https://docs.scipy.org/doc/scipy-1.4.1/reference/linalg.html#module-scipy.linalg)\n",
    "* [Processamento de imagem](https://docs.scipy.org/doc/scipy-1.4.1/reference/ndimage.html#module-scipy.ndimage)\n",
    "* [Tranformadas de Fourier](https://docs.scipy.org/doc/scipy-1.4.1/reference/fftpack.html#module-scipy.fftpack)\n",
    "* [Integradores de equações diferenciais](https://docs.scipy.org/doc/scipy-1.4.1/reference/integrate.html#module-scipy.integrate)\n",
    "* [Interpoladores](https://docs.scipy.org/doc/scipy-1.4.1/reference/interpolate.html#module-scipy.interpolate)\n",
    "\n",
    "Não veremos estes recursos aqui, mas é interessante saber que eles existem caso seja necessário realizar alguma computação matricial mais aprimorada."
   ]
  },
  {
   "cell_type": "markdown",
   "metadata": {},
   "source": [
    "## Pandas "
   ]
  },
  {
   "cell_type": "markdown",
   "metadata": {},
   "source": [
    "### Definição"
   ]
  },
  {
   "cell_type": "markdown",
   "metadata": {},
   "source": [
    "O Pandas é uma biblioteca para análise de dados. Com ela, conseguimos trabalhar em algumas das principais etapas do processo de Ciência de Dados:\n",
    "\n",
    "* Importação\n",
    "* Manipulação\n",
    "* Visualização\n",
    "\n",
    "Esta biblioetca insere dois tipos de estruturas de dados:\n",
    "\n",
    "* A `Series` é um `array` unidimensional rotulado que suporta vários tipos de dados.\n",
    "* O `DataFrame` é um `array` bidimensional também rotulado.\n",
    "\n",
    "Ambas estruturas aceitam quase todos os métods do `NumPy`.\n",
    "\n",
    "Uma `Series` pode ser construída da seguinte forma:"
   ]
  },
  {
   "cell_type": "code",
   "execution_count": null,
   "metadata": {},
   "outputs": [],
   "source": [
    "import pandas as pd\n",
    "\n",
    "series = pd.Series(['carro','moto','bicicleta'])\n",
    "series"
   ]
  },
  {
   "cell_type": "markdown",
   "metadata": {},
   "source": [
    "Veja que a representação da `Series` já apresenta o tipo do dado armazenado. O tipo `object` refere-se, na maioria das vezes, ao tipo `str` mas pode significar que há uma mistura de tipos.\n",
    "\n",
    "E podemos acessar o elemento pelo índice:"
   ]
  },
  {
   "cell_type": "code",
   "execution_count": null,
   "metadata": {},
   "outputs": [],
   "source": [
    "series[2]"
   ]
  },
  {
   "cell_type": "markdown",
   "metadata": {},
   "source": [
    "Se passarmos um dicionário como argumento, as chaves destes dicionários serão os índices:"
   ]
  },
  {
   "cell_type": "code",
   "execution_count": null,
   "metadata": {},
   "outputs": [],
   "source": [
    "series = pd.Series({'João':1,'Maria':2,'José':3})\n",
    "series"
   ]
  },
  {
   "cell_type": "markdown",
   "metadata": {},
   "source": [
    "O `DataFrame` foi baseado na estrutura de mesmo nome do R e podemos inicializar uma da seguinte forma:"
   ]
  },
  {
   "cell_type": "code",
   "execution_count": null,
   "metadata": {},
   "outputs": [],
   "source": [
    "df = pd.DataFrame({'A':['João', 'Maria', 'José'], 'B':[1,2,3], 'C':[False, True, True]})\n",
    "df"
   ]
  },
  {
   "cell_type": "markdown",
   "metadata": {},
   "source": [
    "Neste caso, as chaves do dicionário passado como argumento são os nomes das colunas. \n",
    "\n",
    "Acessamos os elementos de uma coluna da seguinte forma:"
   ]
  },
  {
   "cell_type": "code",
   "execution_count": null,
   "metadata": {},
   "outputs": [],
   "source": [
    "df['A']"
   ]
  },
  {
   "cell_type": "markdown",
   "metadata": {},
   "source": [
    "Como você já deve ter notado, o resultado é uma `Series`:"
   ]
  },
  {
   "cell_type": "code",
   "execution_count": null,
   "metadata": {},
   "outputs": [],
   "source": [
    "type(df['A'])"
   ]
  },
  {
   "cell_type": "markdown",
   "metadata": {},
   "source": [
    "Então podemos dizer que um `DataFrame` é uma coleção de `Series`.\n",
    "\n",
    "Para acessar uma entrada específica usamos a propriedade `loc` com acesso por índice:"
   ]
  },
  {
   "cell_type": "code",
   "execution_count": null,
   "metadata": {},
   "outputs": [],
   "source": [
    "df.loc[2,'A']"
   ]
  },
  {
   "cell_type": "markdown",
   "metadata": {},
   "source": [
    "> Como acessaríamos apenas uma linha?\n",
    ">\n",
    "> E se quiséssemos acessar uma coluna/linha por sua posição ao invés do índice? Como faríamos?"
   ]
  },
  {
   "cell_type": "markdown",
   "metadata": {},
   "source": [
    "### Leitura de arquivos"
   ]
  },
  {
   "cell_type": "markdown",
   "metadata": {},
   "source": [
    "O Pandas possui diversos métodos para ingestão de dados e todas elas são do formato `pd.read_*`. Por exemplo, para ler um arquivo CSV podemos fazer o seguinte:"
   ]
  },
  {
   "cell_type": "code",
   "execution_count": null,
   "metadata": {},
   "outputs": [],
   "source": [
    "# Obtém os dados do Titanic\n",
    "from urllib.request import urlretrieve\n",
    "\n",
    "urlretrieve(\n",
    "    'https://raw.githubusercontent.com/mwaskom/seaborn-data/master/titanic.csv', \n",
    "    'Dados/titanic.csv'\n",
    ")\n",
    "\n",
    "# Carrega os dados para um DataFrame\n",
    "df_titanic = pd.read_csv('Dados/titanic.csv')\n",
    "df_titanic"
   ]
  },
  {
   "cell_type": "markdown",
   "metadata": {},
   "source": [
    "Apesar do Jupyter Notebook apresenta uma versão compactada dos resultados, a tabela completa foi importada."
   ]
  },
  {
   "cell_type": "code",
   "execution_count": null,
   "metadata": {},
   "outputs": [],
   "source": [
    "import sqlite3\n",
    "import zipfile\n",
    "# Obtém banco de dados Chinook\n",
    "filename, response = urlretrieve('https://www.sqlitetutorial.net/wp-content/uploads/2018/03/chinook.zip', 'Dados/chinook.zip')\n",
    "\n",
    "with zipfile.ZipFile(filename, 'r') as zip_ref:\n",
    "    zip_ref.extractall('Dados/')\n",
    "\n",
    "conn = sqlite3.connect('Dados/chinook.db')\n",
    "df_tracks = pd.read_sql('SELECT * FROM tracks', conn)\n",
    "conn.close()\n",
    "df_tracks"
   ]
  },
  {
   "cell_type": "markdown",
   "metadata": {},
   "source": [
    "Assim, para ler os dados de um banco de dados, precisamos apenas passar uma conexão válida e a `query` que queremos realizar.\n",
    "\n",
    "Outros formas de importar dados pode ser visto [aqui](https://pandas.pydata.org/pandas-docs/stable/reference/io.html).\n"
   ]
  },
  {
   "cell_type": "markdown",
   "metadata": {},
   "source": [
    "### Estatśtica Descritiva"
   ]
  },
  {
   "cell_type": "markdown",
   "metadata": {},
   "source": [
    "As estruturas de dados do Pandas possuem alguns métodos disponíveis que facilitam a obtenção de aglumas estatísticas. Para uma visão global nós podemos usar o método `.describe`"
   ]
  },
  {
   "cell_type": "code",
   "execution_count": null,
   "metadata": {},
   "outputs": [],
   "source": [
    "df_titanic.describe()"
   ]
  },
  {
   "cell_type": "markdown",
   "metadata": {},
   "source": [
    "Ao invés de obter uma tabela descritiva com várias estatísticas como a apresentada acima, podemos invocar métodos específicos:"
   ]
  },
  {
   "cell_type": "code",
   "execution_count": null,
   "metadata": {},
   "outputs": [],
   "source": [
    "df_titanic.mean()"
   ]
  },
  {
   "cell_type": "markdown",
   "metadata": {},
   "source": [
    "Temos outros métodos disponíveis como `median`, `min` e `max`."
   ]
  },
  {
   "cell_type": "markdown",
   "metadata": {},
   "source": [
    "### Manuseio de dados"
   ]
  },
  {
   "cell_type": "markdown",
   "metadata": {},
   "source": [
    "Uma tarefa bem comum é a a limpeza e alteração dos dados. Por exemplo, podemos ter valores monetários negativos ou precisamos criar colunas novas. Com o Pandas, podemos realizar estas tarefas com facilidade.\n",
    "\n",
    "Por exemplo, os dados do Titanic apresentam alguns valores ausentes (`null`)."
   ]
  },
  {
   "cell_type": "code",
   "execution_count": null,
   "metadata": {},
   "outputs": [],
   "source": [
    "df_titanic.isnull().sum()"
   ]
  },
  {
   "cell_type": "markdown",
   "metadata": {},
   "source": [
    "Existem duas formas de lidar com dados ausentes:\n",
    "1. Removê-los, ou\n",
    "1. Imputá-los com a média/mediana ou algum outro método sofisticado.\n",
    "\n",
    "Vamos seguir com o método 1 e remover os dados nulos:"
   ]
  },
  {
   "cell_type": "code",
   "execution_count": null,
   "metadata": {},
   "outputs": [],
   "source": [
    "df_titanic_null_dropped = df_titanic.dropna()\n",
    "df_titanic_null_dropped"
   ]
  },
  {
   "cell_type": "code",
   "execution_count": null,
   "metadata": {},
   "outputs": [],
   "source": [
    "df_titanic_null_dropped.isnull().sum()"
   ]
  },
  {
   "cell_type": "markdown",
   "metadata": {},
   "source": [
    "> Desafio: Impute os dados ausentes para idade usando a média da idade dos passageiros."
   ]
  },
  {
   "cell_type": "markdown",
   "metadata": {},
   "source": [
    "Outro cenário possível é trocar o valor do dado. Por exemplo, podemos trocar os valores da coluna `alive` de `no/yes` para `não/sim` usando o método `replace` e passando um dicionário como argumento:"
   ]
  },
  {
   "cell_type": "code",
   "execution_count": null,
   "metadata": {},
   "outputs": [],
   "source": [
    "df_titanic['alive'].replace({'no':'não', 'yes':'sim'}, inplace=True)\n",
    "df_titanic.head()"
   ]
  },
  {
   "cell_type": "markdown",
   "metadata": {},
   "source": [
    "Aqui introduzimos dois novos recursos:\n",
    "* o `inplace`, como argumento do `replace`, que faz a modificação diretamente no `DataFrame` de origem e não retorna um novo. Outros métodos possuem o argumento `inplace` como o `dropna` visto anteriormente.\n",
    "* O método `.head` que mostra as 5 primeiras linhas do `DataFrame`. Se passado um número inteiro como argumento, será mostrado esta mesma quantidade de linhas."
   ]
  },
  {
   "cell_type": "markdown",
   "metadata": {},
   "source": [
    "Adcionar uma coluna é bem simples:"
   ]
  },
  {
   "cell_type": "code",
   "execution_count": null,
   "metadata": {},
   "outputs": [],
   "source": [
    "df"
   ]
  },
  {
   "cell_type": "code",
   "execution_count": null,
   "metadata": {},
   "outputs": [],
   "source": [
    "df['D'] = ['Carro', 'Moto', 'Bicicleta']\n",
    "df"
   ]
  },
  {
   "cell_type": "markdown",
   "metadata": {},
   "source": [
    "> O que acontece quando tentamos criar uma coluna com um tamanho diferente ao de linhas?"
   ]
  },
  {
   "cell_type": "markdown",
   "metadata": {},
   "source": [
    "Para criar uma linha, usamos o atributo `loc`:"
   ]
  },
  {
   "cell_type": "code",
   "execution_count": null,
   "metadata": {},
   "outputs": [],
   "source": [
    "df.loc[3] = ['Carlos', 4, False, 'Ônibus']\n",
    "df"
   ]
  },
  {
   "cell_type": "markdown",
   "metadata": {},
   "source": [
    "### Agrupamentos"
   ]
  },
  {
   "cell_type": "markdown",
   "metadata": {},
   "source": [
    "Com o Pandas, podemos gerar agrupamento de forma similar a como fazemos com SQL. Por exemplo para obtermos a média da idade dos passageiros do Titanic por gênero, nós faríamos:\n",
    "\n",
    "```sql\n",
    "SELECT sex, mean(age)\n",
    "FROM titanic\n",
    "GROUP BY sex\n",
    "```\n",
    "\n",
    "No Pandas, a sintaxe é bem similar:"
   ]
  },
  {
   "cell_type": "code",
   "execution_count": null,
   "metadata": {},
   "outputs": [],
   "source": [
    "df_titanic.groupby('sex')['age'].mean()"
   ]
  },
  {
   "cell_type": "markdown",
   "metadata": {},
   "source": [
    "Para fazer um agrupamento por múltiplas colunas, basta passarmos uma lista com a colunas a serem agrupadas como argumento do `groupby`:"
   ]
  },
  {
   "cell_type": "code",
   "execution_count": null,
   "metadata": {},
   "outputs": [],
   "source": [
    "df_titanic.groupby(['pclass','sex'])['age'].mean()"
   ]
  },
  {
   "cell_type": "markdown",
   "metadata": {},
   "source": [
    "Também podemos executar múltipas funções no argupamento:"
   ]
  },
  {
   "cell_type": "code",
   "execution_count": null,
   "metadata": {},
   "outputs": [],
   "source": [
    "df_titanic.groupby(['pclass','sex'])['age'].agg([np.sum, np.mean, np.std])"
   ]
  },
  {
   "cell_type": "markdown",
   "metadata": {},
   "source": [
    "### Junção de tabelas"
   ]
  },
  {
   "cell_type": "markdown",
   "metadata": {},
   "source": [
    "Outra operação bem comum para quem está familiarizado com SQL é a junção de tabelas (*join*). Vamos criar dois `DataFrame`s para usarmos como exemplo:"
   ]
  },
  {
   "cell_type": "code",
   "execution_count": null,
   "metadata": {},
   "outputs": [],
   "source": [
    "left = pd.DataFrame(\n",
    "    {\n",
    "        'id':[1,2,3,4,5],\n",
    "        'class':['A', 'A', 'C', 'B', 'D']\n",
    "    }\n",
    ")\n",
    "left"
   ]
  },
  {
   "cell_type": "code",
   "execution_count": null,
   "metadata": {},
   "outputs": [],
   "source": [
    "right = pd.DataFrame(\n",
    "    {\n",
    "        'id':[4,5,6],\n",
    "        'valores':[50, 99, -3]\n",
    "    })\n",
    "right"
   ]
  },
  {
   "cell_type": "markdown",
   "metadata": {},
   "source": [
    "Para realizar a junção, nós usamos `pd.merge`"
   ]
  },
  {
   "cell_type": "code",
   "execution_count": null,
   "metadata": {},
   "outputs": [],
   "source": [
    "pd.merge(left, right)"
   ]
  },
  {
   "cell_type": "markdown",
   "metadata": {},
   "source": [
    "Por padrão é realizado um `inner join` nas colunas em comum (neste caso, `id`). O exemplo abaixo mostra um `outer join`:"
   ]
  },
  {
   "cell_type": "code",
   "execution_count": null,
   "metadata": {},
   "outputs": [],
   "source": [
    "pd.merge(left, right, how='outer')"
   ]
  },
  {
   "cell_type": "markdown",
   "metadata": {},
   "source": [
    "E, se necessário, podemos realiza a junção usando o índice:"
   ]
  },
  {
   "cell_type": "code",
   "execution_count": null,
   "metadata": {},
   "outputs": [],
   "source": [
    "pd.merge(left, right, left_index=True, right_index=True)"
   ]
  },
  {
   "cell_type": "markdown",
   "metadata": {},
   "source": [
    "Note como os valores da coluna em comum `id` diferem, foram criados duas colunas novas com os nomes sendo o nome da coluna em comum mais um sufixo. "
   ]
  },
  {
   "cell_type": "markdown",
   "metadata": {},
   "source": [
    "> Desafio: acesse o banco de dados chinook e:\n",
    ">\n",
    "> 1. Liste o nome dos artistas, músicas e álbuns. \n",
    ">\n",
    "> 2. Em seguida, crie um relatório com os 10 artistas que mais possuem música."
   ]
  },
  {
   "cell_type": "code",
   "execution_count": null,
   "metadata": {},
   "outputs": [],
   "source": []
  }
 ],
 "metadata": {
  "kernelspec": {
   "display_name": "Python 3",
   "language": "python",
   "name": "python3"
  },
  "language_info": {
   "codemirror_mode": {
    "name": "ipython",
    "version": 3
   },
   "file_extension": ".py",
   "mimetype": "text/x-python",
   "name": "python",
   "nbconvert_exporter": "python",
   "pygments_lexer": "ipython3",
   "version": "3.7.6"
  },
  "toc-autonumbering": true,
  "toc-showmarkdowntxt": false
 },
 "nbformat": 4,
 "nbformat_minor": 4
}
