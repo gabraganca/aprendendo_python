{
 "cells": [
  {
   "cell_type": "markdown",
   "metadata": {},
   "source": [
    "# Visualização de Dados"
   ]
  },
  {
   "cell_type": "markdown",
   "metadata": {},
   "source": [
    "Após interagir com dados externos como arquivos CSV e banco de dados com o Pandas e outras ferramentas, vamos agora a uma das etapas finais do processo de anáise de dados: visualização."
   ]
  },
  {
   "cell_type": "markdown",
   "metadata": {},
   "source": [
    "## Matplotlib"
   ]
  },
  {
   "cell_type": "markdown",
   "metadata": {},
   "source": [
    "A biblioteca mais usada para fazer visualização de dados é a Matplotlib que foi criada para se assemelhar com vários recursos do MATLAB, e ela se integra bem com outras ferramentas como NumPy, SciPy e Pandas. Uma ótima forma de aprender a usar o Matplotlib é vendo exemplos em sua [galeria][matplotlib-gallery]. \n",
    "\n",
    "[matplotlib-gallery]: https://matplotlib.org/gallery.html"
   ]
  },
  {
   "cell_type": "markdown",
   "metadata": {},
   "source": [
    "### Gráfico de linha"
   ]
  },
  {
   "cell_type": "markdown",
   "metadata": {},
   "source": [
    "O método básico é o `plot`:\n",
    "\n"
   ]
  },
  {
   "cell_type": "code",
   "execution_count": null,
   "metadata": {},
   "outputs": [],
   "source": [
    "import matplotlib.pyplot as plt # Importado desta forma por convenção\n",
    "import numpy as np\n",
    "\n",
    "x = np.linspace(-10, 10, 5)\n",
    "y = x ** 2\n",
    "\n",
    "plt.plot(x, y)"
   ]
  },
  {
   "cell_type": "markdown",
   "metadata": {},
   "source": [
    "Por padrão, o `plot` desenha uma linha azul, mas temos a liberdade de escolher o tipo de linha e cor:"
   ]
  },
  {
   "cell_type": "code",
   "execution_count": null,
   "metadata": {},
   "outputs": [],
   "source": [
    "plt.plot(x, y, 'r--')"
   ]
  },
  {
   "cell_type": "markdown",
   "metadata": {},
   "source": [
    "Para um controle melhor, podemos usar os argumentos `marker`, `ls` e `color`, para o tipo de marcador, tipo de linha (*line style*) e cor, respectivamente."
   ]
  },
  {
   "cell_type": "code",
   "execution_count": null,
   "metadata": {},
   "outputs": [],
   "source": [
    "plt.plot(x, y, marker='s', color='g', ls='--')"
   ]
  },
  {
   "cell_type": "markdown",
   "metadata": {},
   "source": [
    "Para adicionar mais de uma curva no gráfico, basta usar outro `plt.plot`. Neste caso, podemos introduzir também uma legenda para facilitar a identificação das curvas."
   ]
  },
  {
   "cell_type": "code",
   "execution_count": null,
   "metadata": {},
   "outputs": [],
   "source": [
    "z = 5*x + 50\n",
    "\n",
    "plt.plot(x, y, label='Curva 1')\n",
    "plt.plot(x, z, label='Curva 2') \n",
    "\n",
    "plt.legend()"
   ]
  },
  {
   "cell_type": "markdown",
   "metadata": {},
   "source": [
    "### Gráfico de dispersão"
   ]
  },
  {
   "cell_type": "markdown",
   "metadata": {},
   "source": [
    "Neste tipo de gráfico, estamos mostrando duas variáveis numéricas com pontos. "
   ]
  },
  {
   "cell_type": "code",
   "execution_count": null,
   "metadata": {},
   "outputs": [],
   "source": [
    "np.random.seed(42) # Configruando a semente para que resultado seja reprodutível.\n",
    "\n",
    "x = np.random.normal(size=100)\n",
    "y = x + np.random.normal(scale=0.5, size=100)\n",
    "\n",
    "plt.scatter(x, y)"
   ]
  },
  {
   "cell_type": "markdown",
   "metadata": {},
   "source": [
    "Podemos usar alguns dos mesmos argumentos disponíveis no método `plot`. Por exemplo:"
   ]
  },
  {
   "cell_type": "code",
   "execution_count": null,
   "metadata": {},
   "outputs": [],
   "source": [
    "plt.scatter(\n",
    "    x, y, \n",
    "    color='#f08080', # Podemos usar o formato de cor hexadecimal e RGB também\n",
    "    marker='^', \n",
    "    s=200 # Tamanho dos marcadores\n",
    ")"
   ]
  },
  {
   "cell_type": "markdown",
   "metadata": {},
   "source": [
    "### Histogramas"
   ]
  },
  {
   "cell_type": "markdown",
   "metadata": {},
   "source": [
    "Histogramas são usados para visualizar distribuições, por exemplo as idades de um grupo de pessoas:"
   ]
  },
  {
   "cell_type": "code",
   "execution_count": null,
   "metadata": {},
   "outputs": [],
   "source": [
    "np.random.seed(42)\n",
    "idades = np.random.normal(loc=40, scale=10, size=500)\n",
    "\n",
    "plt.hist(idades)"
   ]
  },
  {
   "cell_type": "markdown",
   "metadata": {},
   "source": [
    "Por padrão, o método define sozinho os intervalos de cada categoria, mas temos a liberdade de alterar:"
   ]
  },
  {
   "cell_type": "code",
   "execution_count": null,
   "metadata": {},
   "outputs": [],
   "source": [
    "plt.hist(idades, bins=range(0,100, 5))"
   ]
  },
  {
   "cell_type": "markdown",
   "metadata": {},
   "source": [
    "Uma formatação interessante a se fazer é definir as bordas dos intervalos para facilitar a visualização."
   ]
  },
  {
   "cell_type": "code",
   "execution_count": null,
   "metadata": {},
   "outputs": [],
   "source": [
    "plt.hist(idades, bins=range(0,100, 5), edgecolor='k')"
   ]
  },
  {
   "cell_type": "markdown",
   "metadata": {},
   "source": [
    "### Gráfico de barras"
   ]
  },
  {
   "cell_type": "markdown",
   "metadata": {},
   "source": [
    "Outro gráfico bastante usado é o de barras para mostrar valores numéricos associados a categorias:"
   ]
  },
  {
   "cell_type": "code",
   "execution_count": null,
   "metadata": {},
   "outputs": [],
   "source": [
    "categorias = ['A', 'B', 'C']\n",
    "valores = [30, 80, 60]\n",
    "\n",
    "plt.bar(categorias, valores)"
   ]
  },
  {
   "cell_type": "markdown",
   "metadata": {},
   "source": [
    "Podemos usar barras horizontais:"
   ]
  },
  {
   "cell_type": "code",
   "execution_count": null,
   "metadata": {},
   "outputs": [],
   "source": [
    "plt.barh(categorias, valores)"
   ]
  },
  {
   "cell_type": "markdown",
   "metadata": {},
   "source": [
    "### Adicionando recursos"
   ]
  },
  {
   "cell_type": "markdown",
   "metadata": {},
   "source": [
    "Os gráficos do Matplotlib são bem customizáveis. Na figura abaixo, é possível mudar todos os elementos:\n",
    "\n",
    "![Anatomy of a figure](https://matplotlib.org/_images/anatomy.png)\n",
    "\n",
    "Nós já vimos como adicionar legendas anteriormente e veremos agora alguns outros recursos."
   ]
  },
  {
   "cell_type": "code",
   "execution_count": null,
   "metadata": {},
   "outputs": [],
   "source": [
    "np.random.seed(123)\n",
    "z = y + np.random.normal(size=len(y))\n",
    "\n",
    "plt.scatter(\n",
    "    x, y, \n",
    "    label='Pontos subindo', \n",
    "    zorder=5, # configura ordem de desenho do elemento gráfico\n",
    "    alpha=0.8 # configura opacidade do ponto: 0 é transparente e 1, opaco.\n",
    ")\n",
    "plt.scatter(\n",
    "    x, z, \n",
    "    marker='v', \n",
    "    s=50, \n",
    "    label='Pontos descendo', \n",
    "    zorder=2,\n",
    "    alpha=0.8\n",
    ")\n",
    "\n",
    "plt.legend(loc='upper left') # trocando a posição da legenda\n",
    "\n",
    "plt.title(\"Demo de recursos extras\")\n",
    "plt.xlabel(\"X\")\n",
    "plt.ylabel(\"y\")\n",
    "\n",
    "plt.grid(zorder=0, color='lightgray') # configura grade\n",
    "\n",
    "# configura extensão dos eixos\n",
    "plt.xlim([-3, 3])\n",
    "plt.ylim([-6, 6])"
   ]
  },
  {
   "cell_type": "markdown",
   "metadata": {},
   "source": [
    "### Gráficos e objetos"
   ]
  },
  {
   "cell_type": "markdown",
   "metadata": {},
   "source": [
    "A forma que fazer gráficos que vismoa até agora foi criada assim para se assemelhar com o MATLAB. Como o Python é uma linguagem orientada a objetos, também é possível criar gráficos com objetos."
   ]
  },
  {
   "cell_type": "code",
   "execution_count": null,
   "metadata": {},
   "outputs": [],
   "source": [
    "fig = plt.figure()\n",
    "\n",
    "ax = fig.add_subplot()\n",
    "\n",
    "ax.scatter(\n",
    "    x, y, \n",
    "    label='Pontos subindo', \n",
    "    zorder=5, # configura ordem de desenho do elemento gráfico\n",
    "    alpha=0.8 # configura opacidade do ponto: 0 é transparente e 1, opaco.\n",
    ")\n",
    "ax.scatter(\n",
    "    x, z, \n",
    "    marker='v', \n",
    "    s=50, \n",
    "    label='Pontos descendo', \n",
    "    zorder=2,\n",
    "    alpha=0.8\n",
    ")\n",
    "\n",
    "ax.legend(loc='upper left') # trocando a posição da legenda\n",
    "\n",
    "ax.set_title(\"Demo de recursos extras\")\n",
    "ax.set_xlabel(\"X\")\n",
    "ax.set_ylabel(\"y\")\n",
    "\n",
    "ax.grid(zorder=0, color='lightgray') # configura grade\n",
    "\n",
    "# configura extensão dos eixos\n",
    "ax.set_xlim([-3, 3])\n",
    "ax.set_ylim([-6, 6])"
   ]
  },
  {
   "cell_type": "markdown",
   "metadata": {},
   "source": [
    "## Pandas e Matplotlib"
   ]
  },
  {
   "cell_type": "markdown",
   "metadata": {},
   "source": [
    "O Pandas possui um módulo de visualização que utiliza recursos do Matplotlib. Vamos criar um `DataFrame` de exemplo e fazer alguns gráficos."
   ]
  },
  {
   "cell_type": "code",
   "execution_count": null,
   "metadata": {},
   "outputs": [],
   "source": [
    "import pandas as pd\n",
    "import random\n",
    "\n",
    "random.seed(42)\n",
    "\n",
    "df = pd.DataFrame(\n",
    "    dict(\n",
    "        tempo=random.choices(range(5), k=100),\n",
    "        categorias=random.choices('ABC', k=100),\n",
    "        medidas_1=(random.random() for i in range(100)),\n",
    "        medidas_2=(random.random() for i in range(100)),\n",
    "        medidas_3=(random.random() for i in range(100))\n",
    "\n",
    "    )\n",
    ")\n",
    "df"
   ]
  },
  {
   "cell_type": "markdown",
   "metadata": {},
   "source": [
    "A maioria dos gráfiocs são feitos usando o método `plot`. "
   ]
  },
  {
   "cell_type": "code",
   "execution_count": null,
   "metadata": {},
   "outputs": [],
   "source": [
    "df.plot()"
   ]
  },
  {
   "cell_type": "markdown",
   "metadata": {},
   "source": [
    "Neste caso, ele colocou no gráfico apenas as variávies númericas no eixo y. No eixo x, o pandas usou o índice. Foi adicionado uma legenda automaticamente. \n",
    "\n",
    "Podemos definir quais colunas usar nos eixos:"
   ]
  },
  {
   "cell_type": "code",
   "execution_count": null,
   "metadata": {},
   "outputs": [],
   "source": [
    "df.plot(x='medidas_1')"
   ]
  },
  {
   "cell_type": "code",
   "execution_count": null,
   "metadata": {},
   "outputs": [],
   "source": [
    "df.plot(x='medidas_1', y='medidas_2')"
   ]
  },
  {
   "cell_type": "markdown",
   "metadata": {},
   "source": [
    "Por padrão, é feito o gráfico de linha, mas podemos definir qual o tipo usando o atributo `kind`:"
   ]
  },
  {
   "cell_type": "code",
   "execution_count": null,
   "metadata": {},
   "outputs": [],
   "source": [
    "df.plot(x='medidas_1', y='medidas_2', kind='scatter')"
   ]
  },
  {
   "cell_type": "markdown",
   "metadata": {},
   "source": [
    "Ou chamar o tipo diretamente:"
   ]
  },
  {
   "cell_type": "code",
   "execution_count": null,
   "metadata": {},
   "outputs": [],
   "source": [
    "df.plot.scatter(x='medidas_1', y='medidas_2')"
   ]
  },
  {
   "cell_type": "markdown",
   "metadata": {},
   "source": [
    "Ao criar um gráfico com o Pandas, nos é retornado um objeto do tipo `matplotlib.axes` que podemos usar para aprimorar o gráfico:"
   ]
  },
  {
   "cell_type": "code",
   "execution_count": null,
   "metadata": {},
   "outputs": [],
   "source": [
    "ax = df.plot.scatter(x='medidas_1', y='medidas_2')\n",
    "\n",
    "print('Objeto retornado:', ax)\n",
    "\n",
    "ax.grid()\n",
    "ax.set_title('Exemplo')"
   ]
  },
  {
   "cell_type": "markdown",
   "metadata": {},
   "source": [
    "Assim, com o Pandas, é possível encadear diversas operações de análise e finalizar com o gráfico:"
   ]
  },
  {
   "cell_type": "code",
   "execution_count": null,
   "metadata": {},
   "outputs": [],
   "source": [
    "ax = df\\\n",
    "    .groupby('categorias')[['medidas_1', 'medidas_2', 'medidas_3']]\\\n",
    "    .mean()\\\n",
    "    .plot\\\n",
    "    .bar()\n",
    "\n",
    "ax.set_title(\"Média das medidas por categoria\")\n",
    "\n",
    "ax.set_ylim([0,1])"
   ]
  },
  {
   "cell_type": "markdown",
   "metadata": {},
   "source": [
    "Há um tipo de gráfico para o qual não precisamos do método `plot`: o histograma."
   ]
  },
  {
   "cell_type": "code",
   "execution_count": null,
   "metadata": {},
   "outputs": [],
   "source": [
    "df.hist()"
   ]
  },
  {
   "cell_type": "markdown",
   "metadata": {},
   "source": [
    "O Pandas detectou que temos três medidas numéricas e fez um *subplot* para cada medida. Podemos escolher uma coluna específica."
   ]
  },
  {
   "cell_type": "code",
   "execution_count": null,
   "metadata": {},
   "outputs": [],
   "source": [
    "df.hist(column='medidas_1')"
   ]
  },
  {
   "cell_type": "markdown",
   "metadata": {},
   "source": [
    "E também temos a liberdade de fazer histogramas das medidas pelas categorias."
   ]
  },
  {
   "cell_type": "code",
   "execution_count": null,
   "metadata": {},
   "outputs": [],
   "source": [
    "df.hist(by='categorias')"
   ]
  },
  {
   "cell_type": "markdown",
   "metadata": {},
   "source": [
    "Para mais informações sobre visualização com o Pandas, vale a pena conferir a [documentação](https://pandas.pydata.org/pandas-docs/stable/user_guide/visualization.html)."
   ]
  },
  {
   "cell_type": "markdown",
   "metadata": {},
   "source": [
    "## Seaborn"
   ]
  },
  {
   "cell_type": "markdown",
   "metadata": {},
   "source": [
    "Seaborn é uma biblioteca de visualização baseada no Matplotlib cujo foco é ser centrada no `DataFame`. Para a maioria dos gráficos, o dado de entrada é um `DataFrame`. E a estética do Seaborn é bem agradável, tornando, assim, possível fazer ótimos gráficos com pouco esforço.\n",
    "\n",
    "Os gráficos do Seaborn podem ser divididos nas seguintes áreas:\n",
    "\n",
    "* relacionamento entre variáveis,\n",
    "* dados categóricos,\n",
    "* distribuição de dados, e\n",
    "* relacionamentos lineares.\n",
    "\n",
    "Vamos ver cada um destas áreas. Recomendo também o [tutorial oficial](https://seaborn.pydata.org/tutorial.html)."
   ]
  },
  {
   "cell_type": "markdown",
   "metadata": {},
   "source": [
    "### Relacionamento entre variáveis "
   ]
  },
  {
   "cell_type": "markdown",
   "metadata": {},
   "source": [
    "Neste tópico, temos os gráficos de dispersão e de linha. Abaixo, segue um exemplo de um gráfico de dispersão."
   ]
  },
  {
   "cell_type": "code",
   "execution_count": null,
   "metadata": {},
   "outputs": [],
   "source": [
    "import seaborn as sns\n",
    "sns.set(style=\"darkgrid\") # configurando tema dos gráficos\n",
    "\n",
    "\n",
    "sns.relplot(x=\"medidas_1\", y=\"medidas_2\", data=df);"
   ]
  },
  {
   "cell_type": "markdown",
   "metadata": {},
   "source": [
    "Podemos segregar pela coluna categórica:"
   ]
  },
  {
   "cell_type": "code",
   "execution_count": null,
   "metadata": {},
   "outputs": [],
   "source": [
    "sns.relplot(x=\"medidas_1\", y=\"medidas_2\", hue='categorias', data=df)"
   ]
  },
  {
   "cell_type": "markdown",
   "metadata": {},
   "source": [
    "Também temos a opção de segregar por tipo de marcador:"
   ]
  },
  {
   "cell_type": "code",
   "execution_count": null,
   "metadata": {},
   "outputs": [],
   "source": [
    "sns.relplot(x=\"medidas_1\", y=\"medidas_2\", hue='categorias', style='categorias', data=df)"
   ]
  },
  {
   "cell_type": "markdown",
   "metadata": {},
   "source": [
    "E usar o tamanho dos pontos para mostrar uma terceira dimensão:"
   ]
  },
  {
   "cell_type": "code",
   "execution_count": null,
   "metadata": {},
   "outputs": [],
   "source": [
    "sns.relplot(x=\"medidas_1\", y=\"medidas_2\", hue='categorias', size='medidas_3', data=df)"
   ]
  },
  {
   "cell_type": "markdown",
   "metadata": {},
   "source": [
    "Para faze rum gráfico de linhas, usamos o argumento `kind='line'`. "
   ]
  },
  {
   "cell_type": "code",
   "execution_count": null,
   "metadata": {},
   "outputs": [],
   "source": [
    "sns.relplot(x=\"tempo\", y=\"medidas_1\", kind='line', data=df)"
   ]
  },
  {
   "cell_type": "markdown",
   "metadata": {},
   "source": [
    "Acima, nós temos uma área hachurada que é o intervalo de confiança da medida. Nós temos mais de um valor na coluna `medidas_1` para um valor de `tempo`:"
   ]
  },
  {
   "cell_type": "code",
   "execution_count": null,
   "metadata": {},
   "outputs": [],
   "source": [
    "df.groupby('tempo').agg(qtde=('medidas_1', 'size'), media=('medidas_1', 'mean'))"
   ]
  },
  {
   "cell_type": "markdown",
   "metadata": {},
   "source": [
    "Assim, o Seaborn calcula a médias dos valores e mostra no gráfico como uma linha e mostra o intervalo de confiança de 95% na área hachurada."
   ]
  },
  {
   "cell_type": "markdown",
   "metadata": {},
   "source": [
    "### Dados Categóricos"
   ]
  },
  {
   "cell_type": "markdown",
   "metadata": {},
   "source": [
    "O Seaborn possui suporte a visualização de dados categóricos através de gráficos de:\n",
    "\n",
    "* barra\n",
    "* dispersão categórica\n",
    "* caixa\n",
    "* violino\n",
    "* pontos\n",
    "\n",
    "O gráfico de barras é o mais simples:"
   ]
  },
  {
   "cell_type": "code",
   "execution_count": null,
   "metadata": {},
   "outputs": [],
   "source": [
    "sns.catplot(x=\"categorias\", y=\"medidas_1\", kind=\"bar\", data=df);"
   ]
  },
  {
   "cell_type": "markdown",
   "metadata": {},
   "source": [
    "Por padrão, ele mostra a média e mostra o intervalo de confiança da média como uma linha vertical preta.\n",
    "\n",
    "Caso tenhamos duas categorias, podemos usar o atributo `hue`:"
   ]
  },
  {
   "cell_type": "code",
   "execution_count": null,
   "metadata": {},
   "outputs": [],
   "source": [
    "sns.catplot(x=\"tempo\", y=\"medidas_1\", kind=\"bar\", hue='categorias', data=df);"
   ]
  },
  {
   "cell_type": "markdown",
   "metadata": {},
   "source": [
    "O gráfico de dispersão categórica, caixa e violino nos permite ter uma visualização da distribuição dos pontos. "
   ]
  },
  {
   "cell_type": "code",
   "execution_count": null,
   "metadata": {},
   "outputs": [],
   "source": [
    "ax= sns.catplot(x='categorias', y='medidas_1', data=df)\n",
    "ax.fig.suptitle('Dispersão categórica', x=0.55, y=1.03)"
   ]
  },
  {
   "cell_type": "code",
   "execution_count": null,
   "metadata": {},
   "outputs": [],
   "source": [
    "ax= sns.catplot(x='categorias', y='medidas_1', kind='box', data=df)\n",
    "ax.fig.suptitle('Boxplot', x=0.55, y=1.03)"
   ]
  },
  {
   "cell_type": "code",
   "execution_count": null,
   "metadata": {},
   "outputs": [],
   "source": [
    "ax= sns.catplot(x='categorias', y='medidas_1', kind='violin', data=df)\n",
    "ax.fig.suptitle('Violin', x=0.55, y=1.03)"
   ]
  },
  {
   "cell_type": "markdown",
   "metadata": {},
   "source": [
    "E o gráifico de pontos nos permite ver a variação de medidas categoria a categoria."
   ]
  },
  {
   "cell_type": "code",
   "execution_count": null,
   "metadata": {},
   "outputs": [],
   "source": [
    "sns.catplot(x='categorias', y='medidas_1', kind='point', data=df)\n"
   ]
  },
  {
   "cell_type": "markdown",
   "metadata": {},
   "source": [
    "### Distribuição de dados"
   ]
  },
  {
   "cell_type": "markdown",
   "metadata": {},
   "source": [
    "Neste tópico, temos os histogramas, tando unidimensionais quanto bidimensionais."
   ]
  },
  {
   "cell_type": "code",
   "execution_count": null,
   "metadata": {},
   "outputs": [],
   "source": [
    "sns.distplot(df['medidas_1']);"
   ]
  },
  {
   "cell_type": "markdown",
   "metadata": {},
   "source": [
    "Dois pontos a serem notados:\n",
    "* Não passei um *DataFrame* mas, sim, um `Series`. Este método também aceita outros iteráveis como uma lista.\n",
    "* A curva desenhada é uma curva de densidade."
   ]
  },
  {
   "cell_type": "markdown",
   "metadata": {},
   "source": [
    "Para dados bidimensionais, podemos fazer um gráfico de dispersão com um histograma em cada eixo representando a distribuição destas dimensões:"
   ]
  },
  {
   "cell_type": "code",
   "execution_count": null,
   "metadata": {},
   "outputs": [],
   "source": [
    "sns.jointplot(x=\"medidas_1\", y=\"medidas_2\", data=df);"
   ]
  },
  {
   "cell_type": "markdown",
   "metadata": {},
   "source": [
    "Ao invés do gráfico de dispersão, podemos visualizar a distribuição bidimensional:"
   ]
  },
  {
   "cell_type": "code",
   "execution_count": null,
   "metadata": {},
   "outputs": [],
   "source": [
    "sns.jointplot(x=\"medidas_1\", y=\"medidas_2\", data=df, kind='hex');"
   ]
  },
  {
   "cell_type": "markdown",
   "metadata": {},
   "source": [
    "### Relacionamentos lineares "
   ]
  },
  {
   "cell_type": "markdown",
   "metadata": {},
   "source": [
    "Nosso objetivo aqui é mostrar uma reta de regressão entre duas variáveis numéricas, $y=a\\cdot x +b$."
   ]
  },
  {
   "cell_type": "code",
   "execution_count": null,
   "metadata": {},
   "outputs": [],
   "source": [
    "sns.lmplot(x=\"medidas_1\", y=\"medidas_2\", data=df);\n"
   ]
  },
  {
   "cell_type": "markdown",
   "metadata": {},
   "source": [
    "Como ambas medidas são aleatórias, nossa reta de regressão é constante, mostrando que não há relacionamento entre as variáveis, como era de se esperar.\n",
    "\n",
    "Novamente, a linha hachurada representa o intervalo de confiança de 95%."
   ]
  },
  {
   "cell_type": "markdown",
   "metadata": {},
   "source": [
    "Podemos aumentar a ordem do polinômio."
   ]
  },
  {
   "cell_type": "code",
   "execution_count": null,
   "metadata": {},
   "outputs": [],
   "source": [
    "sns.lmplot(x=\"medidas_1\", y=\"medidas_2\", order=2, data=df);\n"
   ]
  },
  {
   "cell_type": "markdown",
   "metadata": {},
   "source": [
    "E segregar por uma coluna categórica."
   ]
  },
  {
   "cell_type": "code",
   "execution_count": null,
   "metadata": {},
   "outputs": [],
   "source": [
    "sns.lmplot(x=\"medidas_1\", y=\"medidas_2\", hue='categorias', data=df);\n"
   ]
  },
  {
   "cell_type": "markdown",
   "metadata": {},
   "source": [
    "Há muito mais na biblioteca Sebaorn e recomendo fortemente o [tutorial](https://seaborn.pydata.org/tutorial.html)."
   ]
  }
 ],
 "metadata": {
  "kernelspec": {
   "display_name": "Python 3",
   "language": "python",
   "name": "python3"
  },
  "language_info": {
   "codemirror_mode": {
    "name": "ipython",
    "version": 3
   },
   "file_extension": ".py",
   "mimetype": "text/x-python",
   "name": "python",
   "nbconvert_exporter": "python",
   "pygments_lexer": "ipython3",
   "version": "3.7.6"
  }
 },
 "nbformat": 4,
 "nbformat_minor": 4
}
