{
 "cells": [
  {
   "cell_type": "markdown",
   "metadata": {},
   "source": [
    "# Visualização de Dados"
   ]
  },
  {
   "cell_type": "markdown",
   "metadata": {},
   "source": [
    "Após interagir com dados externos como arquivos CSV e banco de dados com o Pandas e outras ferramentas, vamos agora a uma das etapas finais do processo de anáise de dados: visualização."
   ]
  },
  {
   "cell_type": "markdown",
   "metadata": {},
   "source": [
    "## Matplotlib"
   ]
  },
  {
   "cell_type": "markdown",
   "metadata": {},
   "source": [
    "A biblioteca mais usada para fazer visualização de dados é a Matplotlib que foi criada para se assemelhar com vários recursos do MATLAB, e ela se integra bem com outras ferramentas como NumPy, SciPy e Pandas. Uma ótima forma de aprender a usar o Matplotlib é vendo exemplos em sua [galeria][matplotlib-gallery]. \n",
    "\n",
    "[matplotlib-gallery]: https://matplotlib.org/gallery.html"
   ]
  },
  {
   "cell_type": "markdown",
   "metadata": {},
   "source": [
    "### Gráfico de linha"
   ]
  },
  {
   "cell_type": "markdown",
   "metadata": {},
   "source": [
    "O método básico é o `plot`:\n",
    "\n"
   ]
  },
  {
   "cell_type": "code",
   "execution_count": null,
   "metadata": {},
   "outputs": [],
   "source": [
    "import matplotlib.pyplot as plt # Importado desta forma por convenção\n",
    "import numpy as np\n",
    "\n",
    "x = np.linspace(-10, 10, 5)\n",
    "y = x ** 2\n",
    "\n",
    "plt.plot(x, y)"
   ]
  },
  {
   "cell_type": "markdown",
   "metadata": {},
   "source": [
    "Por padrão, o `plot` desenha uma linha azul, mas temos a liberdade de escolher o tipo de linha e cor:"
   ]
  },
  {
   "cell_type": "code",
   "execution_count": null,
   "metadata": {},
   "outputs": [],
   "source": [
    "plt.plot(x, y, 'r--')"
   ]
  },
  {
   "cell_type": "markdown",
   "metadata": {},
   "source": [
    "Para um controle melhor, podemos usar os argumentos `marker`, `ls` e `color`, para o tipo de marcador, tipo de linha (*line style*) e cor, respectivamente."
   ]
  },
  {
   "cell_type": "code",
   "execution_count": null,
   "metadata": {},
   "outputs": [],
   "source": [
    "plt.plot(x, y, marker='s', color='g', ls='--')"
   ]
  },
  {
   "cell_type": "markdown",
   "metadata": {},
   "source": [
    "Para adicionar mais de uma curva no gráfico, basta usar outro `plt.plot`. Neste caso, podemos introduzir também uma legenda para facilitar a identificação das curvas."
   ]
  },
  {
   "cell_type": "code",
   "execution_count": null,
   "metadata": {},
   "outputs": [],
   "source": [
    "z = 5*x + 50\n",
    "\n",
    "plt.plot(x, y, label='Curva 1')\n",
    "plt.plot(x, z, label='Curva 2') \n",
    "\n",
    "plt.legend()"
   ]
  },
  {
   "cell_type": "markdown",
   "metadata": {},
   "source": [
    "### Gráfico de dispersão"
   ]
  },
  {
   "cell_type": "markdown",
   "metadata": {},
   "source": [
    "Neste tipo de gráfico, estamos mostrando duas variáveis numéricas com pontos. "
   ]
  },
  {
   "cell_type": "code",
   "execution_count": null,
   "metadata": {},
   "outputs": [],
   "source": [
    "np.random.seed(42) # Configruando a semente para que resultado seja reprodutível.\n",
    "\n",
    "x = np.random.normal(size=100)\n",
    "y = x + np.random.normal(scale=0.5, size=100)\n",
    "\n",
    "plt.scatter(x, y)"
   ]
  },
  {
   "cell_type": "markdown",
   "metadata": {},
   "source": [
    "Podemos usar alguns dos mesmos argumentos disponíveis no método `plot`. Por exemplo:"
   ]
  },
  {
   "cell_type": "code",
   "execution_count": null,
   "metadata": {},
   "outputs": [],
   "source": [
    "plt.scatter(\n",
    "    x, y, \n",
    "    color='#f08080', # Podemos usar o formato de cor hexadecimal e RGB também\n",
    "    marker='^', \n",
    "    s=200 # Tamanho dos marcadores\n",
    ")"
   ]
  },
  {
   "cell_type": "markdown",
   "metadata": {},
   "source": [
    "### Histogramas"
   ]
  },
  {
   "cell_type": "markdown",
   "metadata": {},
   "source": [
    "Histogramas são usados para visualizar distribuições, por exemplo as idades de um grupo de pessoas:"
   ]
  },
  {
   "cell_type": "code",
   "execution_count": null,
   "metadata": {},
   "outputs": [],
   "source": [
    "np.random.seed(42)\n",
    "idades = np.random.normal(loc=40, scale=10, size=500)\n",
    "\n",
    "plt.hist(idades)"
   ]
  },
  {
   "cell_type": "markdown",
   "metadata": {},
   "source": [
    "Por padrão, o método define sozinho os intervalos de cada categoria, mas temos a liberdade de alterar:"
   ]
  },
  {
   "cell_type": "code",
   "execution_count": null,
   "metadata": {},
   "outputs": [],
   "source": [
    "plt.hist(idades, bins=range(0,100, 5))"
   ]
  },
  {
   "cell_type": "markdown",
   "metadata": {},
   "source": [
    "Uma formatação interessante a se fazer é definir as bordas dos intervalos para facilitar a visualização."
   ]
  },
  {
   "cell_type": "code",
   "execution_count": null,
   "metadata": {},
   "outputs": [],
   "source": [
    "plt.hist(idades, bins=range(0,100, 5), edgecolor='k')"
   ]
  },
  {
   "cell_type": "markdown",
   "metadata": {},
   "source": [
    "### Gráfico de barras"
   ]
  },
  {
   "cell_type": "markdown",
   "metadata": {},
   "source": [
    "Outro gráfico bastante usado é o de barras para mostrar valores numéricos associados a categorias:"
   ]
  },
  {
   "cell_type": "code",
   "execution_count": null,
   "metadata": {},
   "outputs": [],
   "source": [
    "categorias = ['A', 'B', 'C']\n",
    "valores = [30, 80, 60]\n",
    "\n",
    "plt.bar(categorias, valores)"
   ]
  },
  {
   "cell_type": "markdown",
   "metadata": {},
   "source": [
    "Podemos usar barras horizontais:"
   ]
  },
  {
   "cell_type": "code",
   "execution_count": null,
   "metadata": {},
   "outputs": [],
   "source": [
    "plt.barh(categorias, valores)"
   ]
  },
  {
   "cell_type": "markdown",
   "metadata": {},
   "source": [
    "### Adicionando recursos"
   ]
  },
  {
   "cell_type": "markdown",
   "metadata": {},
   "source": [
    "Os gráficos do Matplotlib são bem customizáveis. Na figura abaixo, é possível mudar todos os elementos:\n",
    "\n",
    "![Anatomy of a figure](https://matplotlib.org/_images/anatomy.png)\n",
    "\n",
    "Nós já vimos como adicionar legendas anteriormente e veremos agora alguns outros recursos."
   ]
  },
  {
   "cell_type": "code",
   "execution_count": null,
   "metadata": {},
   "outputs": [],
   "source": [
    "np.random.seed(123)\n",
    "z = y + np.random.normal(size=len(y))\n",
    "\n",
    "plt.scatter(\n",
    "    x, y, \n",
    "    label='Pontos subindo', \n",
    "    zorder=5, # configura ordem de desenho do elemento gráfico\n",
    "    alpha=0.8 # configura opacidade do ponto: 0 é transparente e 1, opaco.\n",
    ")\n",
    "plt.scatter(\n",
    "    x, z, \n",
    "    marker='v', \n",
    "    s=50, \n",
    "    label='Pontos descendo', \n",
    "    zorder=2,\n",
    "    alpha=0.8\n",
    ")\n",
    "\n",
    "plt.legend(loc='upper left') # trocando a posição da legenda\n",
    "\n",
    "plt.title(\"Demo de recursos extras\")\n",
    "plt.xlabel(\"X\")\n",
    "plt.ylabel(\"y\")\n",
    "\n",
    "plt.grid(zorder=0, color='lightgray') # configura grade\n",
    "\n",
    "# configura extensão dos eixos\n",
    "plt.xlim([-3, 3])\n",
    "plt.ylim([-6, 6])"
   ]
  },
  {
   "cell_type": "code",
   "execution_count": null,
   "metadata": {},
   "outputs": [],
   "source": []
  }
 ],
 "metadata": {
  "kernelspec": {
   "display_name": "Python 3",
   "language": "python",
   "name": "python3"
  },
  "language_info": {
   "codemirror_mode": {
    "name": "ipython",
    "version": 3
   },
   "file_extension": ".py",
   "mimetype": "text/x-python",
   "name": "python",
   "nbconvert_exporter": "python",
   "pygments_lexer": "ipython3",
   "version": "3.7.6"
  }
 },
 "nbformat": 4,
 "nbformat_minor": 4
}
