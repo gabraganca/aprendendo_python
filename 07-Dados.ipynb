{
 "cells": [
  {
   "cell_type": "markdown",
   "metadata": {},
   "source": [
    "# Interagindo com Dados Externos"
   ]
  },
  {
   "cell_type": "markdown",
   "metadata": {},
   "source": [
    "Nesta seção, veremos como usar o Python para interagir com dados externos de diversas fontes. "
   ]
  },
  {
   "cell_type": "markdown",
   "metadata": {},
   "source": [
    "## Arquivos em Disco"
   ]
  },
  {
   "cell_type": "markdown",
   "metadata": {},
   "source": [
    "### Abrindo Arquivos para Leitura"
   ]
  },
  {
   "cell_type": "markdown",
   "metadata": {},
   "source": [
    "Em anexo, na pasta `./Dados`, nós temos uma cópia do livro [Dom Casmurro][dom_casmurro] de [Machado de Assis][machado_de_assis] obtido no site do [Projeto Gutenberg][gutenberg]. Para abri-lo, usamos o comando `open` do Python.\n",
    "\n",
    "\n",
    "[dom_casmurro]: https://pt.wikipedia.org/wiki/Dom_Casmurro\n",
    "[machado_de_assis]: https://pt.wikipedia.org/wiki/Machado_de_Assis\n",
    "[gutenberg]: http://www.gutenberg.org/wiki/Main_Page"
   ]
  },
  {
   "cell_type": "code",
   "execution_count": null,
   "metadata": {},
   "outputs": [],
   "source": [
    "dom_casmurro = open('Dados/machado_de_assis_dom_casmurro.txt')\n",
    "dom_casmurro"
   ]
  },
  {
   "cell_type": "markdown",
   "metadata": {},
   "source": [
    "Para ler todo o conteúdo do arquivo, basta usar o método `read`."
   ]
  },
  {
   "cell_type": "code",
   "execution_count": null,
   "metadata": {},
   "outputs": [],
   "source": [
    "dom_casmurro.read()[:1000] # Mostrando só os primeiros 1000 caracteres"
   ]
  },
  {
   "cell_type": "markdown",
   "metadata": {},
   "source": [
    "Ao invés de retornar todo o arquivo como uma `string`, podemos usar o método `readlines` para nos retornar cada linha em uma `string` dentro de uma lista."
   ]
  },
  {
   "cell_type": "code",
   "execution_count": null,
   "metadata": {},
   "outputs": [],
   "source": [
    "dom_casmurro.seek(0) # retorna o início do arquivo\n",
    "dom_casmurro.readlines()[:10] # só mostra as 10 primeiras linhas"
   ]
  },
  {
   "cell_type": "markdown",
   "metadata": {},
   "source": [
    "Se o arquivo for muito grande, pode ser interessante ler linha por linha e para isso usamos o método `readline`"
   ]
  },
  {
   "cell_type": "code",
   "execution_count": null,
   "metadata": {},
   "outputs": [],
   "source": [
    "dom_casmurro.seek(0)\n",
    "\n",
    "for i in range(10):\n",
    "    print(dom_casmurro.readline())"
   ]
  },
  {
   "cell_type": "markdown",
   "metadata": {},
   "source": [
    "Ao terminar com o arquivo, devemos sempre fechá-lo para liberar o espaçõ em memória:"
   ]
  },
  {
   "cell_type": "code",
   "execution_count": null,
   "metadata": {},
   "outputs": [],
   "source": [
    "dom_casmurro.close()"
   ]
  },
  {
   "cell_type": "markdown",
   "metadata": {},
   "source": [
    "E podemos verificar se o arquivo foi fechado com sucesso:"
   ]
  },
  {
   "cell_type": "code",
   "execution_count": null,
   "metadata": {},
   "outputs": [],
   "source": [
    "dom_casmurro.closed"
   ]
  },
  {
   "cell_type": "markdown",
   "metadata": {},
   "source": [
    "### Escrevendo em Arquivos"
   ]
  },
  {
   "cell_type": "markdown",
   "metadata": {},
   "source": [
    "O método `open` para abrir arquivos possui outros modos. Acima, utilizamos o modo de leitura `r` que é o padrão. Vamos usar agora o modo `w` de escrita."
   ]
  },
  {
   "cell_type": "code",
   "execution_count": null,
   "metadata": {},
   "outputs": [],
   "source": [
    "meu_texto = open('Dados/meu_texto.txt', 'w')"
   ]
  },
  {
   "cell_type": "code",
   "execution_count": null,
   "metadata": {},
   "outputs": [],
   "source": [
    "meu_texto.write('1\\n')\n",
    "meu_texto.writelines(['2\\n', '3\\n']) # Usado para escrever uma lista de strings"
   ]
  },
  {
   "cell_type": "code",
   "execution_count": null,
   "metadata": {},
   "outputs": [],
   "source": [
    "meu_texto.close()"
   ]
  },
  {
   "cell_type": "markdown",
   "metadata": {},
   "source": [
    "Ao usar o modo `w`, o conteúdo do arquivo é limpo ao ser aberto. Se quiser, podemos abrir de tal forma que só é permitido adicionar novas linhas, mantendo as linhas originais intactas. Para isso, usamos o modo `a` de `append`:"
   ]
  },
  {
   "cell_type": "code",
   "execution_count": null,
   "metadata": {},
   "outputs": [],
   "source": [
    "meu_texto = open('Dados/meu_texto.txt', 'a')\n",
    "meu_texto.writelines(['4\\n', '5\\n']) \n",
    "meu_texto.close()"
   ]
  },
  {
   "cell_type": "markdown",
   "metadata": {},
   "source": [
    "Vamos abrir o arquivo para leitura e verificar se foi excrito corretamente:"
   ]
  },
  {
   "cell_type": "code",
   "execution_count": null,
   "metadata": {},
   "outputs": [],
   "source": [
    "meu_texto = open('Dados/meu_texto.txt')\n",
    "print(meu_texto.read())\n",
    "meu_texto.close()"
   ]
  },
  {
   "cell_type": "markdown",
   "metadata": {},
   "source": [
    "### Abrindo Arquivos com `with`"
   ]
  },
  {
   "cell_type": "markdown",
   "metadata": {},
   "source": [
    "Ao abrir arquivos, é possível que esqueçamos de fechar após utiliá-lo. Para evitar isso podemos usar o gerenciador de contexto (*context manager*) `with`, que fecha o arquivo após o término da execução do bloco de código:"
   ]
  },
  {
   "cell_type": "code",
   "execution_count": null,
   "metadata": {},
   "outputs": [],
   "source": [
    "with open('Dados/meu_texto.txt') as f:\n",
    "    print(f.read())\n",
    "    \n",
    "print('O arquivo foi fechado?', f.closed)"
   ]
  },
  {
   "cell_type": "markdown",
   "metadata": {},
   "source": [
    "> Quais são as palavras mais exóticas, ou seja, as menos usadas no Dom Casmurro? E as mais usadas? \n",
    ">\n",
    "> Crie um contador de palavras pare responder as perguntas acima. Aproveite também para escrever o resultado em um arquivo no disco. "
   ]
  },
  {
   "cell_type": "markdown",
   "metadata": {},
   "source": [
    "## Obtendo Arquivos da Internet "
   ]
  },
  {
   "cell_type": "markdown",
   "metadata": {},
   "source": [
    "Em algumas ocasiões, os dados que vamos precisar estará disponibilizado na Internet e precisaremos trazê-los para o disco. Como exemplo, vamos fazer o *download*  dos dados dos passsageiros do Titanic."
   ]
  },
  {
   "cell_type": "code",
   "execution_count": null,
   "metadata": {},
   "outputs": [],
   "source": [
    "from urllib.request import urlretrieve\n",
    "\n",
    "url = 'https://raw.githubusercontent.com/mwaskom/seaborn-data/master/titanic.csv'\n",
    "\n",
    "urlretrieve(url, 'Dados/titanic.csv')"
   ]
  },
  {
   "cell_type": "markdown",
   "metadata": {},
   "source": [
    "E agora verificamos se os dados foram trazidos com sucesso:"
   ]
  },
  {
   "cell_type": "code",
   "execution_count": null,
   "metadata": {},
   "outputs": [],
   "source": [
    "with open('Dados/titanic.csv') as f:\n",
    "    for i in range(6):\n",
    "        print(f.readline()) # as 6 primeiras linhas"
   ]
  },
  {
   "cell_type": "markdown",
   "metadata": {},
   "source": [
    "O arquivo foi trazido com sucesso e foi possível abrir e mostra as 6 primeiras linhas. "
   ]
  },
  {
   "cell_type": "markdown",
   "metadata": {},
   "source": [
    "## Arquivos Tabulares (CSV, ...)"
   ]
  },
  {
   "cell_type": "markdown",
   "metadata": {},
   "source": [
    "O arquivo que baixamos no exemplo acima é do tipo CSV, *comma separated values* ou, no bom português, valores separados por vírgula. A terminação `.csv` é só uma convenção para facilitar a identificação do arquivo. \n",
    "\n",
    "O Python possui um módulo chamado `csv` que nos ajuda a interagir com este tipo de arquivo:"
   ]
  },
  {
   "cell_type": "code",
   "execution_count": null,
   "metadata": {},
   "outputs": [],
   "source": [
    "import csv\n",
    "with open('Dados/titanic.csv') as csvfile:\n",
    "    reader = csv.reader(csvfile, delimiter=',')\n",
    "    titanic = [row for row in reader]\n",
    "    \n",
    "print(titanic[:10])"
   ]
  },
  {
   "cell_type": "markdown",
   "metadata": {},
   "source": [
    "Para escrever um arquivo CSV, usamos o `csv.writer`:"
   ]
  },
  {
   "cell_type": "code",
   "execution_count": null,
   "metadata": {},
   "outputs": [],
   "source": [
    "with open('Dados/exemplo.csv', 'w') as csvfile:\n",
    "    writer = csv.writer(csvfile, delimiter='\\t') # Usamos uma tabulação como separador\n",
    "    for i in range(11):\n",
    "        writer.writerow([i**j for j in range(1, 11)])"
   ]
  },
  {
   "cell_type": "code",
   "execution_count": null,
   "metadata": {},
   "outputs": [],
   "source": [
    "with open('Dados/exemplo.csv') as f:\n",
    "    print(f.read())"
   ]
  },
  {
   "cell_type": "markdown",
   "metadata": {},
   "source": [
    "Quando abrimos o arquivo com dados do Titanic, os dados foram salvos na memória como uma lista de listas. Também podemos salvar como uma lista de dicionários usando o método `Dictreader`: "
   ]
  },
  {
   "cell_type": "code",
   "execution_count": null,
   "metadata": {},
   "outputs": [],
   "source": [
    "with open('Dados/titanic.csv') as csvfile:\n",
    "    reader = csv.DictReader(csvfile, delimiter=',')\n",
    "    titanic = [row for row in reader]\n",
    "\n",
    "print(titanic[:5])"
   ]
  },
  {
   "cell_type": "markdown",
   "metadata": {},
   "source": [
    "Se você notar bem, os dados retornados não estão em um dicionário, como falei antes, mas em um objeto do tipo `OrderedDict`. Este 'um tipo especial de dicionário disponível no módulo `collections`. A diferença do `OrderedDict` para o dicionário básico é que ele mantém a ordem dos objetos inseridos, como podemos ver abaixo:"
   ]
  },
  {
   "cell_type": "code",
   "execution_count": null,
   "metadata": {},
   "outputs": [],
   "source": [
    "print('--Primeira linha--')\n",
    "print(titanic[0])\n",
    "print('--Segunda linha--')\n",
    "print(titanic[1])"
   ]
  },
  {
   "cell_type": "markdown",
   "metadata": {},
   "source": [
    "O método `DictReader`, por padrão, usa a primeira linha do arquivo CSV para criar as chaves dos dicionários. Assim, podemos descobrir o atributo `age` do passageiro registrado na primeira linha do arquivo CSV da seguinte forma:"
   ]
  },
  {
   "cell_type": "code",
   "execution_count": null,
   "metadata": {},
   "outputs": [],
   "source": [
    "print(titanic[0]['age'])"
   ]
  },
  {
   "cell_type": "markdown",
   "metadata": {},
   "source": [
    "E, para passar de um dicionário para um arquivo CSV, podemos usar o  `DictWriter`:"
   ]
  },
  {
   "cell_type": "code",
   "execution_count": null,
   "metadata": {},
   "outputs": [],
   "source": [
    "with open('Dados/exemplo.csv', 'w') as csvfile:\n",
    "    cabecalho = ['i', 'i^2', 'i^3']\n",
    "    writer = csv.DictWriter(csvfile, fieldnames=cabecalho)\n",
    "    writer.writeheader() # escreve o cabecalho\n",
    "    for i in range(11):\n",
    "        writer.writerow({'i': i, 'i^2': i**2, 'i^3': i**3})"
   ]
  },
  {
   "cell_type": "markdown",
   "metadata": {},
   "source": [
    "Vamos verificar se foi escrito corretamente:"
   ]
  },
  {
   "cell_type": "code",
   "execution_count": null,
   "metadata": {},
   "outputs": [],
   "source": [
    "with open('Dados/exemplo.csv') as f:\n",
    "    print(f.read())"
   ]
  },
  {
   "cell_type": "markdown",
   "metadata": {},
   "source": [
    "Como não deifinimos o delimitador, o `DictWriter` usou a vírgula como padrão."
   ]
  },
  {
   "cell_type": "markdown",
   "metadata": {},
   "source": [
    "## Arquivos JSON"
   ]
  },
  {
   "cell_type": "markdown",
   "metadata": {},
   "source": [
    "De acordo com o [site oficial][json-website], o formato JSON é definido como:\n",
    "\n",
    "> JSON (JavaScript Object Notation - Notação de Objetos JavaScript) é uma formatação leve de troca de dados. Para seres humanos, é fácil de ler e escrever. Para máquinas, é fácil de interpretar e gerar. Está baseado em um subconjunto da linguagem de programação JavaScript, Standard ECMA-262 3a Edição -Dezembro - 1999. JSON é em formato texto e completamente independente de linguagem, pois usa convenções que são familiares às linguagens C e familiares, incluindo C++, C#, Java, JavaScript, Perl, Python e muitas outras. Estas propriedades fazem com que JSON seja um formato ideal de troca de dados.\n",
    "> \n",
    "> JSON está constituído em duas estruturas:\n",
    "> \n",
    ">* Uma coleção de pares nome/valor. Em várias linguagens, isto é caracterizado como um object, record, struct, dicionário, hash table, keyed list, ou arrays associativas.\n",
    ">* Uma lista ordenada de valores. Na maioria das linguagens, isto é caracterizado como uma array, vetor, lista ou sequência.\n",
    ">\n",
    ">Estas são estruturas de dados universais. Virtualmente todas as linguagens de programação modernas as suportam, de uma forma ou de outra. É aceitavel que um formato de troca de dados que seja independente de linguagem de programação se baseie nestas estruturas.\n",
    "\n",
    "No Python, temos a biblioteca `json` que nos permite traduzir os dados aramzenados em memória no Python para o formato JSON e vice versa:\n",
    "\n",
    "[json-website]: https://www.json.org/json-pt.html"
   ]
  },
  {
   "cell_type": "code",
   "execution_count": null,
   "metadata": {},
   "outputs": [],
   "source": [
    "import json\n",
    "\n",
    "dados_exemplo = [\n",
    "    {'nome':'Gustavo', 'sobrenome':'Bragança', 'idade':34},\n",
    "    {'nome':'Maria', 'sobrenome':'Silva', 'idade':40},\n",
    "]\n",
    "\n",
    "dados_json = json.dumps(dados_exemplo)\n",
    "print(dados_json)\n",
    "print(type(dados_json))"
   ]
  },
  {
   "cell_type": "markdown",
   "metadata": {},
   "source": [
    "O método `dumps` tranformou a lista de dicionários em uma string no formato JSON. \n",
    "\n",
    "E para salvar em um arquivo, usamos o método `dump` (sem o `s`) em um arquivo aberto para escrita."
   ]
  },
  {
   "cell_type": "code",
   "execution_count": null,
   "metadata": {},
   "outputs": [],
   "source": [
    "with open('Dados/exemplo.json', 'w') as f:\n",
    "    json.dump(dados_exemplo, f)"
   ]
  },
  {
   "cell_type": "markdown",
   "metadata": {},
   "source": [
    "E podemos verificar que o dicionário foi salvo corretamente."
   ]
  },
  {
   "cell_type": "code",
   "execution_count": null,
   "metadata": {},
   "outputs": [],
   "source": [
    "with open('Dados/exemplo.json') as f:\n",
    "    print(f.read())"
   ]
  },
  {
   "cell_type": "markdown",
   "metadata": {},
   "source": [
    "## Arquivos XML "
   ]
  },
  {
   "cell_type": "markdown",
   "metadata": {},
   "source": [
    "O formato XML foi criado pelo *Wolrd Wide Web Consortium* a fim de ter uma linguagem de marcação (*markup language*) que fosse intelígivel para máquinas e seres humanos. Vamos fazer o *download* de um exemplo e abri-lo para vermos sua estrutura:"
   ]
  },
  {
   "cell_type": "code",
   "execution_count": null,
   "metadata": {},
   "outputs": [],
   "source": [
    "urlretrieve('https://www.w3schools.com/xml/simple.xml', 'Dados/simple.xml')\n",
    "with open('Dados/simple.xml') as f:\n",
    "    print(f.read())"
   ]
  },
  {
   "cell_type": "markdown",
   "metadata": {},
   "source": [
    "O arquivo consiste de um cardápio de café da manhã com 5 itens. Cada item está cercado pelas tags `<food>` e `</food>`. Para cada item, há quatro subitens: `name`, `price`, `description` e `calories`, também cercados pelas tags `<...>` e `</...>`.\n",
    "\n",
    "Vamos usar o Beatiful Soup que é uma biblioteca de terceiros para obter dados de arquivos XML e HTML:"
   ]
  },
  {
   "cell_type": "code",
   "execution_count": null,
   "metadata": {},
   "outputs": [],
   "source": [
    "from bs4 import BeautifulSoup\n",
    "\n",
    "with open('Dados/simple.xml') as f:\n",
    "    soup = BeautifulSoup(f.read(), 'lxml')"
   ]
  },
  {
   "cell_type": "markdown",
   "metadata": {},
   "source": [
    "E vamos verificar a \"sopa\":"
   ]
  },
  {
   "cell_type": "code",
   "execution_count": null,
   "metadata": {},
   "outputs": [],
   "source": [
    "print(soup.prettify())"
   ]
  },
  {
   "cell_type": "markdown",
   "metadata": {},
   "source": [
    "Nosso arquivo parece OK. "
   ]
  },
  {
   "cell_type": "code",
   "execution_count": null,
   "metadata": {},
   "outputs": [],
   "source": [
    "for food in soup.find_all('food'):\n",
    "    for attr in food.find_all():\n",
    "        print(f'{attr.name}: {attr.string}')\n",
    "    print()"
   ]
  },
  {
   "cell_type": "markdown",
   "metadata": {},
   "source": [
    "Podemos iterar diretamente em cada subitem:"
   ]
  },
  {
   "cell_type": "code",
   "execution_count": null,
   "metadata": {},
   "outputs": [],
   "source": [
    "for name in soup.find_all('name'):\n",
    "    print(name.string)"
   ]
  },
  {
   "cell_type": "markdown",
   "metadata": {},
   "source": [
    "Ou também podemos usar o comando `find` e `findall` para encontrar os elementos:"
   ]
  },
  {
   "cell_type": "markdown",
   "metadata": {},
   "source": [
    "Agora, vamos montar um arquivo XML a partir do nosso dicionário de exemplo:"
   ]
  },
  {
   "cell_type": "code",
   "execution_count": null,
   "metadata": {},
   "outputs": [],
   "source": [
    "soup = BeautifulSoup(features='lxml')\n",
    "\n",
    "for registro in dados_exemplo:\n",
    "    nome = soup.new_tag('pessoa', nome=registro['nome'])\n",
    "    \n",
    "    sobrenome = soup.new_tag('sobrenome')\n",
    "    sobrenome.string = registro['sobrenome']\n",
    "    nome.append(sobrenome)\n",
    "    \n",
    "    idade = soup.new_tag('idade')\n",
    "    idade.string = str(registro['idade'])\n",
    "    nome.append(idade)    \n",
    "    \n",
    "    soup.append(nome)\n",
    "\n",
    "print(soup.prettify())\n",
    "\n",
    "with open('Dados/dado_exemplo.xml', 'w') as f:\n",
    "    f.write(str(soup))"
   ]
  },
  {
   "cell_type": "markdown",
   "metadata": {},
   "source": [
    "Veja que aqui eu coloquei o `nome` dentro do item. Vamos ver como ficou:"
   ]
  },
  {
   "cell_type": "code",
   "execution_count": null,
   "metadata": {},
   "outputs": [],
   "source": [
    "with open('Dados/dado_exemplo.xml') as f:\n",
    "    print(f.read())"
   ]
  },
  {
   "cell_type": "markdown",
   "metadata": {},
   "source": [
    "> Como faríamos para estruturar os dados dos passageiros do Titanic em XML?"
   ]
  },
  {
   "cell_type": "markdown",
   "metadata": {},
   "source": [
    "## Arquivos HTML"
   ]
  },
  {
   "cell_type": "markdown",
   "metadata": {},
   "source": [
    "Em alguns casos, vamos encontrar informações úteis em páginas da web servidas em HTML. E, assim, para obter estes dados, podemos construir um raspador de web (*web scraping*) com o Beautiful Soup.\n",
    "\n",
    "Vamos ver o exemplo da [documentação.](https://www.crummy.com/software/BeautifulSoup/bs4/doc/)"
   ]
  },
  {
   "cell_type": "code",
   "execution_count": null,
   "metadata": {},
   "outputs": [],
   "source": [
    "# HTML de exemplo\n",
    "html_doc = \"\"\"\n",
    "<html><head><title>The Dormouse's story</title></head>\n",
    "<body>\n",
    "<p class=\"title\"><b>The Dormouse's story</b></p>\n",
    "\n",
    "<p class=\"story\">Once upon a time there were three little sisters; and their names were\n",
    "<a href=\"http://example.com/elsie\" class=\"sister\" id=\"link1\">Elsie</a>,\n",
    "<a href=\"http://example.com/lacie\" class=\"sister\" id=\"link2\">Lacie</a> and\n",
    "<a href=\"http://example.com/tillie\" class=\"sister\" id=\"link3\">Tillie</a>;\n",
    "and they lived at the bottom of a well.</p>\n",
    "\n",
    "<p class=\"story\">...</p>\n",
    "\"\"\""
   ]
  },
  {
   "cell_type": "markdown",
   "metadata": {},
   "source": [
    "E se renderizassemos nosso HTML em um navegados, ele se pareceria com o resultado abaixo."
   ]
  },
  {
   "cell_type": "code",
   "execution_count": null,
   "metadata": {},
   "outputs": [],
   "source": [
    "from IPython.core.display import HTML, display\n",
    "\n",
    "display(HTML(html_doc))"
   ]
  },
  {
   "cell_type": "markdown",
   "metadata": {},
   "source": [
    "Assim como no XML, o primeiro passo é criar a *sopa*:"
   ]
  },
  {
   "cell_type": "code",
   "execution_count": null,
   "metadata": {},
   "outputs": [],
   "source": [
    "soup = BeautifulSoup(html_doc, 'html.parser')"
   ]
  },
  {
   "cell_type": "markdown",
   "metadata": {},
   "source": [
    "Note que o segundo atributo mudou e se refere ao tipo de arquivo que estamos tratando."
   ]
  },
  {
   "cell_type": "markdown",
   "metadata": {},
   "source": [
    "Podemos acessar diversos atributos desta página, começando pelo título:"
   ]
  },
  {
   "cell_type": "code",
   "execution_count": null,
   "metadata": {},
   "outputs": [],
   "source": [
    "print(soup.title)\n",
    "print(soup.title.name)\n",
    "print(soup.title.string)\n",
    "print(soup.title.parent.name)"
   ]
  },
  {
   "cell_type": "markdown",
   "metadata": {},
   "source": [
    "Podemos acessar o parágrafo `<p>` e seus elements:"
   ]
  },
  {
   "cell_type": "code",
   "execution_count": null,
   "metadata": {},
   "outputs": [],
   "source": [
    "print(soup.p)\n",
    "print(soup.p['class'][0])\n",
    "print(soup.p.text)"
   ]
  },
  {
   "cell_type": "markdown",
   "metadata": {},
   "source": [
    "Podemos achar por elemento:"
   ]
  },
  {
   "cell_type": "code",
   "execution_count": null,
   "metadata": {},
   "outputs": [],
   "source": [
    "soup.find(id='link3')"
   ]
  },
  {
   "cell_type": "markdown",
   "metadata": {},
   "source": [
    "E também obter todos os links, tarefa essencial quando estamos construindo um `crawler`:"
   ]
  },
  {
   "cell_type": "code",
   "execution_count": null,
   "metadata": {},
   "outputs": [],
   "source": [
    "for link in soup.find_all('a'):\n",
    "    print(link.get('href'))"
   ]
  },
  {
   "cell_type": "markdown",
   "metadata": {},
   "source": [
    "E também obter todo o texto:"
   ]
  },
  {
   "cell_type": "code",
   "execution_count": null,
   "metadata": {},
   "outputs": [],
   "source": [
    "print(soup.get_text())"
   ]
  },
  {
   "cell_type": "markdown",
   "metadata": {},
   "source": [
    "## Bancos de Dados Relacional "
   ]
  },
  {
   "cell_type": "markdown",
   "metadata": {},
   "source": [
    "Quando falamos em dados, logo pensamos em um banco de dados relacional. Vamos ver agora como executar *queries* em um banco e, para isso, vamos usar um banco de dados SQLite de exemplo chamado Chinook disponibilizado [aqui](https://www.sqlitetutorial.net/sqlite-sample-database/)."
   ]
  },
  {
   "cell_type": "code",
   "execution_count": null,
   "metadata": {},
   "outputs": [],
   "source": [
    "import zipfile\n",
    "\n",
    "filename, response = urlretrieve('https://www.sqlitetutorial.net/wp-content/uploads/2018/03/chinook.zip', 'Dados/chinook.zip')\n",
    "\n",
    "with zipfile.ZipFile(filename, 'r') as zip_ref:\n",
    "    zip_ref.extractall('Dados/')"
   ]
  },
  {
   "cell_type": "markdown",
   "metadata": {},
   "source": [
    "Vamos usar um banco SQLite, mas outros bancos relacionais seguem a mesma rotina:\n",
    "1. Criamos uma conexão,\n",
    "1. Criamos um cursor,\n",
    "1. Com o cursor, executamos a query,\n",
    "    * Se for um `SELECT`, recuperamos o resultado.\n",
    "1. Após terminar, fechamos o cursor e a conexão."
   ]
  },
  {
   "cell_type": "code",
   "execution_count": null,
   "metadata": {},
   "outputs": [],
   "source": [
    "import sqlite3\n",
    "\n",
    "conn = sqlite3.connect('Dados/chinook.db')\n",
    "\n",
    "cursor = conn.cursor()\n",
    "\n",
    "cursor.execute(\n",
    "    \"\"\"\n",
    "    SELECT * FROM tracks limit 10\n",
    "    \"\"\"\n",
    ")\n",
    "print(cursor.fetchall())\n",
    "\n",
    "cursor.close()\n",
    "conn.close()"
   ]
  },
  {
   "cell_type": "markdown",
   "metadata": {},
   "source": [
    "Podemos iniciar uma nova base também:"
   ]
  },
  {
   "cell_type": "code",
   "execution_count": null,
   "metadata": {},
   "outputs": [],
   "source": [
    "from datetime import datetime\n",
    "import random\n",
    "\n",
    "conn = sqlite3.connect('Dados/meu_banco.db')\n",
    "\n",
    "cursor = conn.cursor()\n",
    "\n",
    "cursor.execute('''CREATE TABLE IF NOT EXISTS acoes\n",
    "             (created_at timestamp, trans text, simbolo text, qtd real, preco real)''')\n",
    "cursor.execute(\n",
    "    \"INSERT INTO acoes (created_at, trans, simbolo, qtd, preco) VALUES (?, ?, ?, ?, ?)\", \n",
    "    (\n",
    "        datetime.now(), \n",
    "        random.choice(['COMPRA', 'VENDE']),\n",
    "        'GOOG',\n",
    "        random.randint(1, 10)*100, \n",
    "        random.uniform(1400, 1500))\n",
    ")\n",
    "conn.commit()\n",
    "\n",
    "cursor.execute(\"Select * from acoes\")\n",
    "print(cursor.fetchall())\n",
    "\n",
    "cursor.close()\n",
    "conn.close()"
   ]
  },
  {
   "cell_type": "markdown",
   "metadata": {},
   "source": [
    "## APIs REST"
   ]
  },
  {
   "cell_type": "markdown",
   "metadata": {},
   "source": [
    "Hoje em dia, muitos aplicativos WEB se comunicam entre si usando através de APIs (*Acces Point Interface*) usando o protocolo REST (*Representational State Transfer*) que é uma convenção em torno de 4 *verbos* que são usados para:\n",
    "\n",
    "* `GET`: obter um recurso.\n",
    "* `POST`: cria um recurso  .\n",
    "* `PUT`: atualiza um recurso.\n",
    "* `DELETE`: deleta um recurso.\n",
    "\n",
    "\n",
    "Vamos ver o exemplo de dois, `GET` e `POST`:"
   ]
  },
  {
   "cell_type": "code",
   "execution_count": null,
   "metadata": {},
   "outputs": [],
   "source": [
    "import requests\n",
    "\n",
    "r = requests.get('https://jsonplaceholder.typicode.com/posts?id=1')\n",
    "print(r.status_code)\n",
    "assert r.status_code == 200 # success"
   ]
  },
  {
   "cell_type": "markdown",
   "metadata": {},
   "source": [
    "Acima fizemos um `GET` a fim de obter um recurso, que neste caso foi um `post` cujo `id` é igual a 1. Tudo que está além do ponto de interrogação é chamado de *query string* e é utilizado para filtrar o resultado. \n",
    "\n",
    "Obtemos a resposta em JSON no atributo `.text` da resposta."
   ]
  },
  {
   "cell_type": "code",
   "execution_count": null,
   "metadata": {},
   "outputs": [],
   "source": [
    "print(r.text)"
   ]
  },
  {
   "cell_type": "markdown",
   "metadata": {},
   "source": [
    "Agora vamos fazer um `POST` e adicionar informação na API. A estrutura para envio é um pouco mais complexa: além do *endpoint* (endereço da API), precisamos do dado a ser enviado em JSON e informar no cabeçalho o formato do conetúdo sendo enviado."
   ]
  },
  {
   "cell_type": "code",
   "execution_count": null,
   "metadata": {},
   "outputs": [],
   "source": [
    "r = requests.post(\n",
    "    'https://jsonplaceholder.typicode.com/posts',\n",
    "    data =  json.dumps(\n",
    "        dict(\n",
    "            title= 'foo',\n",
    "            body= 'bar',\n",
    "            userId= 1\n",
    "        )\n",
    "    ),\n",
    "        \n",
    "    headers= {\n",
    "      \"Content-type\": \"application/json; charset=UTF-8\"\n",
    "    }\n",
    ")\n",
    "assert r.status_code == 201 # created"
   ]
  }
 ],
 "metadata": {
  "kernelspec": {
   "display_name": "Python 3",
   "language": "python",
   "name": "python3"
  },
  "language_info": {
   "codemirror_mode": {
    "name": "ipython",
    "version": 3
   },
   "file_extension": ".py",
   "mimetype": "text/x-python",
   "name": "python",
   "nbconvert_exporter": "python",
   "pygments_lexer": "ipython3",
   "version": "3.7.6"
  },
  "toc-autonumbering": true,
  "toc-showmarkdowntxt": false
 },
 "nbformat": 4,
 "nbformat_minor": 4
}
