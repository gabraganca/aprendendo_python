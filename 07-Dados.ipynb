{
 "cells": [
  {
   "cell_type": "markdown",
   "metadata": {},
   "source": [
    "# Interagindo com Dados Externos"
   ]
  },
  {
   "cell_type": "markdown",
   "metadata": {},
   "source": [
    "Nesta seção, veremos como usar o Python para interagir com dados externos de diversas fontes. "
   ]
  },
  {
   "cell_type": "markdown",
   "metadata": {},
   "source": [
    "## Arquivos em Disco"
   ]
  },
  {
   "cell_type": "markdown",
   "metadata": {},
   "source": [
    "### Abrindo Arquivos para Leitura"
   ]
  },
  {
   "cell_type": "markdown",
   "metadata": {},
   "source": [
    "Em anexo, na pasta `./Dados`, nós temos uma cópia do livro [Dom Casmurro][dom_casmurro] de [Machado de Assis][machado_de_assis] obtido no site do [Projeto Gutenberg][gutenberg]. Para abri-lo, usamos o comando `open` do Python.\n",
    "\n",
    "\n",
    "[dom_casmurro]: https://pt.wikipedia.org/wiki/Dom_Casmurro\n",
    "[machado_de_assis]: https://pt.wikipedia.org/wiki/Machado_de_Assis\n",
    "[gutenberg]: http://www.gutenberg.org/wiki/Main_Page"
   ]
  },
  {
   "cell_type": "code",
   "execution_count": 1,
   "metadata": {},
   "outputs": [
    {
     "data": {
      "text/plain": [
       "<_io.TextIOWrapper name='Dados/machado_de_assis_dom_casmurro.txt' mode='r' encoding='UTF-8'>"
      ]
     },
     "execution_count": 1,
     "metadata": {},
     "output_type": "execute_result"
    }
   ],
   "source": [
    "dom_casmurro = open('Dados/machado_de_assis_dom_casmurro.txt')\n",
    "dom_casmurro"
   ]
  },
  {
   "cell_type": "markdown",
   "metadata": {},
   "source": [
    "Para ler todo o conteúdo do arquivo, basta usar o método `read`."
   ]
  },
  {
   "cell_type": "code",
   "execution_count": 2,
   "metadata": {},
   "outputs": [
    {
     "data": {
      "text/plain": [
       "\"\\ufeffThe Project Gutenberg EBook of Dom Casmurro, by Machado de Assis\\n\\nThis eBook is for the use of anyone anywhere in the United States and most\\nother parts of the world at no cost and with almost no restrictions\\nwhatsoever.  You may copy it, give it away or re-use it under the terms of\\nthe Project Gutenberg License included with this eBook or online at\\nwww.gutenberg.org.  If you are not located in the United States, you'll have\\nto check the laws of the country where you are located before using this ebook.\\n\\nTitle: Dom Casmurro\\n\\nAuthor: Machado de Assis\\n\\nRelease Date: October 15, 2017 [EBook #55752]\\n\\nLanguage: Portuguese\\n\\n\\n*** START OF THIS PROJECT GUTENBERG EBOOK DOM CASMURRO ***\\n\\n\\n\\n\\nProduced by Laura Natal Rodriguez & Marc D'Hooghe at Free\\nLiterature (online soon in an extended version,also linking\\nto free sources for education worldwide ... MOOC's,\\neducational materials,...) (Images generously made available\\nby the Bibliotheca Nacional Digital Brasil.)\\n\\n\\n\\n\\n\\nDOM CASMURRO\\n\\nPOR\\n\\nMACHADO D\""
      ]
     },
     "execution_count": 2,
     "metadata": {},
     "output_type": "execute_result"
    }
   ],
   "source": [
    "dom_casmurro.read()[:1000] # Mostrando só os primeiros 1000 caracteres"
   ]
  },
  {
   "cell_type": "markdown",
   "metadata": {},
   "source": [
    "Ao invés de retornar todo o arquivo como uma `string`, podemos usar o método `readlines` para nos retornar cada linha em uma `string` dentro de uma lista."
   ]
  },
  {
   "cell_type": "code",
   "execution_count": 3,
   "metadata": {},
   "outputs": [
    {
     "data": {
      "text/plain": [
       "['\\ufeffThe Project Gutenberg EBook of Dom Casmurro, by Machado de Assis\\n',\n",
       " '\\n',\n",
       " 'This eBook is for the use of anyone anywhere in the United States and most\\n',\n",
       " 'other parts of the world at no cost and with almost no restrictions\\n',\n",
       " 'whatsoever.  You may copy it, give it away or re-use it under the terms of\\n',\n",
       " 'the Project Gutenberg License included with this eBook or online at\\n',\n",
       " \"www.gutenberg.org.  If you are not located in the United States, you'll have\\n\",\n",
       " 'to check the laws of the country where you are located before using this ebook.\\n',\n",
       " '\\n',\n",
       " 'Title: Dom Casmurro\\n']"
      ]
     },
     "execution_count": 3,
     "metadata": {},
     "output_type": "execute_result"
    }
   ],
   "source": [
    "dom_casmurro.seek(0) # retorna o início do arquivo\n",
    "dom_casmurro.readlines()[:10] # só mostra as 10 primeiras linhas"
   ]
  },
  {
   "cell_type": "markdown",
   "metadata": {},
   "source": [
    "Se o arquivo for muito grande, pode ser interessante ler linha por linha e para isso usamos o método `readline`"
   ]
  },
  {
   "cell_type": "code",
   "execution_count": 4,
   "metadata": {},
   "outputs": [
    {
     "name": "stdout",
     "output_type": "stream",
     "text": [
      "﻿The Project Gutenberg EBook of Dom Casmurro, by Machado de Assis\n",
      "\n",
      "\n",
      "\n",
      "This eBook is for the use of anyone anywhere in the United States and most\n",
      "\n",
      "other parts of the world at no cost and with almost no restrictions\n",
      "\n",
      "whatsoever.  You may copy it, give it away or re-use it under the terms of\n",
      "\n",
      "the Project Gutenberg License included with this eBook or online at\n",
      "\n",
      "www.gutenberg.org.  If you are not located in the United States, you'll have\n",
      "\n",
      "to check the laws of the country where you are located before using this ebook.\n",
      "\n",
      "\n",
      "\n",
      "Title: Dom Casmurro\n",
      "\n"
     ]
    }
   ],
   "source": [
    "dom_casmurro.seek(0)\n",
    "\n",
    "for i in range(10):\n",
    "    print(dom_casmurro.readline())"
   ]
  },
  {
   "cell_type": "markdown",
   "metadata": {},
   "source": [
    "Ao terminar com o arquivo, devemos sempre fechá-lo para liberar o espaço em memória:"
   ]
  },
  {
   "cell_type": "code",
   "execution_count": 5,
   "metadata": {},
   "outputs": [],
   "source": [
    "dom_casmurro.close()"
   ]
  },
  {
   "cell_type": "markdown",
   "metadata": {},
   "source": [
    "E podemos verificar se o arquivo foi fechado com sucesso:"
   ]
  },
  {
   "cell_type": "code",
   "execution_count": 6,
   "metadata": {},
   "outputs": [
    {
     "data": {
      "text/plain": [
       "True"
      ]
     },
     "execution_count": 6,
     "metadata": {},
     "output_type": "execute_result"
    }
   ],
   "source": [
    "dom_casmurro.closed"
   ]
  },
  {
   "cell_type": "markdown",
   "metadata": {},
   "source": [
    "### Escrevendo em Arquivos"
   ]
  },
  {
   "cell_type": "markdown",
   "metadata": {},
   "source": [
    "O método `open` para abrir arquivos possui outros modos. Acima, utilizamos o modo de leitura `r` que é o padrão. Vamos usar agora o modo `w` de escrita."
   ]
  },
  {
   "cell_type": "code",
   "execution_count": 7,
   "metadata": {},
   "outputs": [],
   "source": [
    "meu_texto = open('Dados/meu_texto.txt', 'w')"
   ]
  },
  {
   "cell_type": "code",
   "execution_count": 8,
   "metadata": {},
   "outputs": [],
   "source": [
    "meu_texto.write('1\\n')\n",
    "meu_texto.writelines(['2\\n', '3\\n']) # Usado para escrever uma lista de strings"
   ]
  },
  {
   "cell_type": "code",
   "execution_count": 9,
   "metadata": {},
   "outputs": [],
   "source": [
    "meu_texto.close()"
   ]
  },
  {
   "cell_type": "markdown",
   "metadata": {},
   "source": [
    "Ao usar o modo `w`, o conteúdo do arquivo é limpo ao ser aberto. Se quiser, podemos abrir de tal forma que só é permitido adicionar novas linhas, mantendo as linhas originais intactas. Para isso, usamos o modo `a` de `append`:"
   ]
  },
  {
   "cell_type": "code",
   "execution_count": 10,
   "metadata": {},
   "outputs": [],
   "source": [
    "meu_texto = open('Dados/meu_texto.txt', 'a')\n",
    "meu_texto.writelines(['4\\n', '5\\n']) \n",
    "meu_texto.close()"
   ]
  },
  {
   "cell_type": "markdown",
   "metadata": {},
   "source": [
    "Vamos abrir o arquivo para leitura e verificar se foi escrito corretamente:"
   ]
  },
  {
   "cell_type": "code",
   "execution_count": 11,
   "metadata": {},
   "outputs": [
    {
     "name": "stdout",
     "output_type": "stream",
     "text": [
      "1\n",
      "2\n",
      "3\n",
      "4\n",
      "5\n",
      "\n"
     ]
    }
   ],
   "source": [
    "meu_texto = open('Dados/meu_texto.txt')\n",
    "print(meu_texto.read())\n",
    "meu_texto.close()"
   ]
  },
  {
   "cell_type": "markdown",
   "metadata": {},
   "source": [
    "### Abrindo Arquivos com `with`"
   ]
  },
  {
   "cell_type": "markdown",
   "metadata": {},
   "source": [
    "Ao abrir arquivos, é possível que esqueçamos de fechar após utiliá-lo. Para evitar isso podemos usar o gerenciador de contexto (*context manager*) `with`, que fecha o arquivo após o término da execução do bloco de código:"
   ]
  },
  {
   "cell_type": "code",
   "execution_count": 12,
   "metadata": {},
   "outputs": [
    {
     "name": "stdout",
     "output_type": "stream",
     "text": [
      "1\n",
      "2\n",
      "3\n",
      "4\n",
      "5\n",
      "\n",
      "O arquivo foi fechado? True\n"
     ]
    }
   ],
   "source": [
    "with open('Dados/meu_texto.txt') as f:\n",
    "    print(f.read())\n",
    "    \n",
    "print('O arquivo foi fechado?', f.closed)"
   ]
  },
  {
   "cell_type": "markdown",
   "metadata": {},
   "source": [
    "> Quais são as palavras mais exóticas, ou seja, as menos usadas no Dom Casmurro? E as mais usadas? \n",
    ">\n",
    "> Crie um contador de palavras para responder as perguntas acima. Aproveite também para escrever o resultado em um arquivo no disco. "
   ]
  },
  {
   "cell_type": "markdown",
   "metadata": {},
   "source": [
    "## Obtendo Arquivos da Internet "
   ]
  },
  {
   "cell_type": "markdown",
   "metadata": {},
   "source": [
    "Em algumas ocasiões, os dados que vamos precisar estará disponibilizado na Internet e precisaremos trazê-los para o disco. Como exemplo, vamos fazer o *download*  dos dados dos passsageiros do Titanic."
   ]
  },
  {
   "cell_type": "code",
   "execution_count": 13,
   "metadata": {},
   "outputs": [
    {
     "data": {
      "text/plain": [
       "('Dados/titanic.csv', <http.client.HTTPMessage at 0x7f137d62b6d0>)"
      ]
     },
     "execution_count": 13,
     "metadata": {},
     "output_type": "execute_result"
    }
   ],
   "source": [
    "from urllib.request import urlretrieve\n",
    "\n",
    "url = 'https://raw.githubusercontent.com/mwaskom/seaborn-data/master/titanic.csv'\n",
    "\n",
    "urlretrieve(url, 'Dados/titanic.csv')"
   ]
  },
  {
   "cell_type": "markdown",
   "metadata": {},
   "source": [
    "E agora verificamos se os dados foram trazidos com sucesso:"
   ]
  },
  {
   "cell_type": "code",
   "execution_count": 14,
   "metadata": {},
   "outputs": [
    {
     "name": "stdout",
     "output_type": "stream",
     "text": [
      "survived,pclass,sex,age,sibsp,parch,fare,embarked,class,who,adult_male,deck,embark_town,alive,alone\n",
      "\n",
      "0,3,male,22.0,1,0,7.25,S,Third,man,True,,Southampton,no,False\n",
      "\n",
      "1,1,female,38.0,1,0,71.2833,C,First,woman,False,C,Cherbourg,yes,False\n",
      "\n",
      "1,3,female,26.0,0,0,7.925,S,Third,woman,False,,Southampton,yes,True\n",
      "\n",
      "1,1,female,35.0,1,0,53.1,S,First,woman,False,C,Southampton,yes,False\n",
      "\n",
      "0,3,male,35.0,0,0,8.05,S,Third,man,True,,Southampton,no,True\n",
      "\n"
     ]
    }
   ],
   "source": [
    "with open('Dados/titanic.csv') as f:\n",
    "    for i in range(6):\n",
    "        print(f.readline()) # as 6 primeiras linhas"
   ]
  },
  {
   "cell_type": "markdown",
   "metadata": {},
   "source": [
    "O arquivo foi trazido com sucesso e foi possível abrir e mostra as 6 primeiras linhas. "
   ]
  },
  {
   "cell_type": "markdown",
   "metadata": {},
   "source": [
    "## Arquivos Tabulares (CSV, ...)"
   ]
  },
  {
   "cell_type": "markdown",
   "metadata": {},
   "source": [
    "O arquivo que baixamos no exemplo acima é do tipo CSV, *comma separated values* ou, no bom português, valores separados por vírgula. A terminação `.csv` é só uma convenção para facilitar a identificação do arquivo. \n",
    "\n",
    "O Python possui um módulo chamado `csv` que nos ajuda a interagir com este tipo de arquivo:"
   ]
  },
  {
   "cell_type": "code",
   "execution_count": 15,
   "metadata": {},
   "outputs": [
    {
     "name": "stdout",
     "output_type": "stream",
     "text": [
      "[['survived', 'pclass', 'sex', 'age', 'sibsp', 'parch', 'fare', 'embarked', 'class', 'who', 'adult_male', 'deck', 'embark_town', 'alive', 'alone'], ['0', '3', 'male', '22.0', '1', '0', '7.25', 'S', 'Third', 'man', 'True', '', 'Southampton', 'no', 'False'], ['1', '1', 'female', '38.0', '1', '0', '71.2833', 'C', 'First', 'woman', 'False', 'C', 'Cherbourg', 'yes', 'False'], ['1', '3', 'female', '26.0', '0', '0', '7.925', 'S', 'Third', 'woman', 'False', '', 'Southampton', 'yes', 'True'], ['1', '1', 'female', '35.0', '1', '0', '53.1', 'S', 'First', 'woman', 'False', 'C', 'Southampton', 'yes', 'False'], ['0', '3', 'male', '35.0', '0', '0', '8.05', 'S', 'Third', 'man', 'True', '', 'Southampton', 'no', 'True'], ['0', '3', 'male', '', '0', '0', '8.4583', 'Q', 'Third', 'man', 'True', '', 'Queenstown', 'no', 'True'], ['0', '1', 'male', '54.0', '0', '0', '51.8625', 'S', 'First', 'man', 'True', 'E', 'Southampton', 'no', 'True'], ['0', '3', 'male', '2.0', '3', '1', '21.075', 'S', 'Third', 'child', 'False', '', 'Southampton', 'no', 'False'], ['1', '3', 'female', '27.0', '0', '2', '11.1333', 'S', 'Third', 'woman', 'False', '', 'Southampton', 'yes', 'False']]\n"
     ]
    }
   ],
   "source": [
    "import csv\n",
    "with open('Dados/titanic.csv') as csvfile:\n",
    "    reader = csv.reader(csvfile, delimiter=',')\n",
    "    titanic = [row for row in reader]\n",
    "    \n",
    "print(titanic[:10])"
   ]
  },
  {
   "cell_type": "markdown",
   "metadata": {},
   "source": [
    "Para escrever um arquivo CSV, usamos o `csv.writer`:"
   ]
  },
  {
   "cell_type": "code",
   "execution_count": 16,
   "metadata": {},
   "outputs": [],
   "source": [
    "with open('Dados/exemplo.csv', 'w') as csvfile:\n",
    "    writer = csv.writer(csvfile, delimiter='\\t') # Usamos uma tabulação como separador\n",
    "    for i in range(11):\n",
    "        writer.writerow([i**j for j in range(1, 11)])"
   ]
  },
  {
   "cell_type": "code",
   "execution_count": 17,
   "metadata": {},
   "outputs": [
    {
     "name": "stdout",
     "output_type": "stream",
     "text": [
      "0\t0\t0\t0\t0\t0\t0\t0\t0\t0\n",
      "1\t1\t1\t1\t1\t1\t1\t1\t1\t1\n",
      "2\t4\t8\t16\t32\t64\t128\t256\t512\t1024\n",
      "3\t9\t27\t81\t243\t729\t2187\t6561\t19683\t59049\n",
      "4\t16\t64\t256\t1024\t4096\t16384\t65536\t262144\t1048576\n",
      "5\t25\t125\t625\t3125\t15625\t78125\t390625\t1953125\t9765625\n",
      "6\t36\t216\t1296\t7776\t46656\t279936\t1679616\t10077696\t60466176\n",
      "7\t49\t343\t2401\t16807\t117649\t823543\t5764801\t40353607\t282475249\n",
      "8\t64\t512\t4096\t32768\t262144\t2097152\t16777216\t134217728\t1073741824\n",
      "9\t81\t729\t6561\t59049\t531441\t4782969\t43046721\t387420489\t3486784401\n",
      "10\t100\t1000\t10000\t100000\t1000000\t10000000\t100000000\t1000000000\t10000000000\n",
      "\n"
     ]
    }
   ],
   "source": [
    "with open('Dados/exemplo.csv') as f:\n",
    "    print(f.read())"
   ]
  },
  {
   "cell_type": "markdown",
   "metadata": {},
   "source": [
    "Quando abrimos o arquivo com dados do Titanic, os dados foram salvos na memória como uma lista de listas. Também podemos salvar como uma lista de dicionários usando o método `Dictreader`: "
   ]
  },
  {
   "cell_type": "code",
   "execution_count": 18,
   "metadata": {},
   "outputs": [
    {
     "name": "stdout",
     "output_type": "stream",
     "text": [
      "[OrderedDict([('survived', '0'), ('pclass', '3'), ('sex', 'male'), ('age', '22.0'), ('sibsp', '1'), ('parch', '0'), ('fare', '7.25'), ('embarked', 'S'), ('class', 'Third'), ('who', 'man'), ('adult_male', 'True'), ('deck', ''), ('embark_town', 'Southampton'), ('alive', 'no'), ('alone', 'False')]), OrderedDict([('survived', '1'), ('pclass', '1'), ('sex', 'female'), ('age', '38.0'), ('sibsp', '1'), ('parch', '0'), ('fare', '71.2833'), ('embarked', 'C'), ('class', 'First'), ('who', 'woman'), ('adult_male', 'False'), ('deck', 'C'), ('embark_town', 'Cherbourg'), ('alive', 'yes'), ('alone', 'False')]), OrderedDict([('survived', '1'), ('pclass', '3'), ('sex', 'female'), ('age', '26.0'), ('sibsp', '0'), ('parch', '0'), ('fare', '7.925'), ('embarked', 'S'), ('class', 'Third'), ('who', 'woman'), ('adult_male', 'False'), ('deck', ''), ('embark_town', 'Southampton'), ('alive', 'yes'), ('alone', 'True')]), OrderedDict([('survived', '1'), ('pclass', '1'), ('sex', 'female'), ('age', '35.0'), ('sibsp', '1'), ('parch', '0'), ('fare', '53.1'), ('embarked', 'S'), ('class', 'First'), ('who', 'woman'), ('adult_male', 'False'), ('deck', 'C'), ('embark_town', 'Southampton'), ('alive', 'yes'), ('alone', 'False')]), OrderedDict([('survived', '0'), ('pclass', '3'), ('sex', 'male'), ('age', '35.0'), ('sibsp', '0'), ('parch', '0'), ('fare', '8.05'), ('embarked', 'S'), ('class', 'Third'), ('who', 'man'), ('adult_male', 'True'), ('deck', ''), ('embark_town', 'Southampton'), ('alive', 'no'), ('alone', 'True')])]\n"
     ]
    }
   ],
   "source": [
    "with open('Dados/titanic.csv') as csvfile:\n",
    "    reader = csv.DictReader(csvfile, delimiter=',')\n",
    "    titanic = [row for row in reader]\n",
    "\n",
    "print(titanic[:5])"
   ]
  },
  {
   "cell_type": "markdown",
   "metadata": {},
   "source": [
    "Se você notar bem, os dados retornados não estão em um dicionário, como falei antes, mas em um objeto do tipo `OrderedDict`. Este é um tipo especial de dicionário disponível no módulo `collections`. A diferença do `OrderedDict` para o dicionário básico é que ele mantém a ordem dos objetos inseridos, como podemos ver abaixo:"
   ]
  },
  {
   "cell_type": "code",
   "execution_count": 19,
   "metadata": {},
   "outputs": [
    {
     "name": "stdout",
     "output_type": "stream",
     "text": [
      "--Primeira linha--\n",
      "OrderedDict([('survived', '0'), ('pclass', '3'), ('sex', 'male'), ('age', '22.0'), ('sibsp', '1'), ('parch', '0'), ('fare', '7.25'), ('embarked', 'S'), ('class', 'Third'), ('who', 'man'), ('adult_male', 'True'), ('deck', ''), ('embark_town', 'Southampton'), ('alive', 'no'), ('alone', 'False')])\n",
      "--Segunda linha--\n",
      "OrderedDict([('survived', '1'), ('pclass', '1'), ('sex', 'female'), ('age', '38.0'), ('sibsp', '1'), ('parch', '0'), ('fare', '71.2833'), ('embarked', 'C'), ('class', 'First'), ('who', 'woman'), ('adult_male', 'False'), ('deck', 'C'), ('embark_town', 'Cherbourg'), ('alive', 'yes'), ('alone', 'False')])\n"
     ]
    }
   ],
   "source": [
    "print('--Primeira linha--')\n",
    "print(titanic[0])\n",
    "print('--Segunda linha--')\n",
    "print(titanic[1])"
   ]
  },
  {
   "cell_type": "markdown",
   "metadata": {},
   "source": [
    "O método `DictReader`, por padrão, usa a primeira linha do arquivo CSV para criar as chaves dos dicionários. Assim, podemos descobrir o atributo `age` do passageiro registrado na primeira linha do arquivo CSV da seguinte forma:"
   ]
  },
  {
   "cell_type": "code",
   "execution_count": 20,
   "metadata": {},
   "outputs": [
    {
     "name": "stdout",
     "output_type": "stream",
     "text": [
      "22.0\n"
     ]
    }
   ],
   "source": [
    "print(titanic[0]['age'])"
   ]
  },
  {
   "cell_type": "markdown",
   "metadata": {},
   "source": [
    "E, para passar de um dicionário para um arquivo CSV, podemos usar o  `DictWriter`:"
   ]
  },
  {
   "cell_type": "code",
   "execution_count": 21,
   "metadata": {},
   "outputs": [],
   "source": [
    "with open('Dados/exemplo.csv', 'w') as csvfile:\n",
    "    cabecalho = ['i', 'i^2', 'i^3']\n",
    "    writer = csv.DictWriter(csvfile, fieldnames=cabecalho)\n",
    "    writer.writeheader() # escreve o cabecalho\n",
    "    for i in range(11):\n",
    "        writer.writerow({'i': i, 'i^2': i**2, 'i^3': i**3})"
   ]
  },
  {
   "cell_type": "markdown",
   "metadata": {},
   "source": [
    "Vamos verificar se foi escrito corretamente:"
   ]
  },
  {
   "cell_type": "code",
   "execution_count": 22,
   "metadata": {},
   "outputs": [
    {
     "name": "stdout",
     "output_type": "stream",
     "text": [
      "i,i^2,i^3\n",
      "0,0,0\n",
      "1,1,1\n",
      "2,4,8\n",
      "3,9,27\n",
      "4,16,64\n",
      "5,25,125\n",
      "6,36,216\n",
      "7,49,343\n",
      "8,64,512\n",
      "9,81,729\n",
      "10,100,1000\n",
      "\n"
     ]
    }
   ],
   "source": [
    "with open('Dados/exemplo.csv') as f:\n",
    "    print(f.read())"
   ]
  },
  {
   "cell_type": "markdown",
   "metadata": {},
   "source": [
    "Como não deifinimos o delimitador, o `DictWriter` usou a vírgula como padrão."
   ]
  },
  {
   "cell_type": "markdown",
   "metadata": {},
   "source": [
    "## Arquivos JSON"
   ]
  },
  {
   "cell_type": "markdown",
   "metadata": {},
   "source": [
    "De acordo com o [site oficial][json-website], o formato JSON é definido como:\n",
    "\n",
    "> JSON (JavaScript Object Notation - Notação de Objetos JavaScript) é uma formatação leve de troca de dados. Para seres humanos, é fácil de ler e escrever. Para máquinas, é fácil de interpretar e gerar. Está baseado em um subconjunto da linguagem de programação JavaScript, Standard ECMA-262 3a Edição -Dezembro - 1999. JSON é em formato texto e completamente independente de linguagem, pois usa convenções que são familiares às linguagens C e familiares, incluindo C++, C#, Java, JavaScript, Perl, Python e muitas outras. Estas propriedades fazem com que JSON seja um formato ideal de troca de dados.\n",
    "> \n",
    "> JSON está constituído em duas estruturas:\n",
    "> \n",
    ">* Uma coleção de pares nome/valor. Em várias linguagens, isto é caracterizado como um object, record, struct, dicionário, hash table, keyed list, ou arrays associativas.\n",
    ">* Uma lista ordenada de valores. Na maioria das linguagens, isto é caracterizado como uma array, vetor, lista ou sequência.\n",
    ">\n",
    ">Estas são estruturas de dados universais. Virtualmente todas as linguagens de programação modernas as suportam, de uma forma ou de outra. É aceitavel que um formato de troca de dados que seja independente de linguagem de programação se baseie nestas estruturas.\n",
    "\n",
    "No Python, temos a biblioteca `json` que nos permite traduzir os dados armazenados em memória no Python para o formato JSON e vice versa:\n",
    "\n",
    "[json-website]: https://www.json.org/json-pt.html"
   ]
  },
  {
   "cell_type": "code",
   "execution_count": 23,
   "metadata": {},
   "outputs": [
    {
     "name": "stdout",
     "output_type": "stream",
     "text": [
      "[{\"nome\": \"Gustavo\", \"sobrenome\": \"Bragan\\u00e7a\", \"idade\": 34}, {\"nome\": \"Maria\", \"sobrenome\": \"Silva\", \"idade\": 40}]\n",
      "<class 'str'>\n"
     ]
    }
   ],
   "source": [
    "import json\n",
    "\n",
    "dados_exemplo = [\n",
    "    {'nome':'Gustavo', 'sobrenome':'Bragança', 'idade':34},\n",
    "    {'nome':'Maria', 'sobrenome':'Silva', 'idade':40},\n",
    "]\n",
    "\n",
    "dados_json = json.dumps(dados_exemplo)\n",
    "print(dados_json)\n",
    "print(type(dados_json))"
   ]
  },
  {
   "cell_type": "markdown",
   "metadata": {},
   "source": [
    "O método `dumps` tranformou a lista de dicionários em uma string no formato JSON. \n",
    "\n",
    "E para salvar em um arquivo, usamos o método `dump` (sem o `s`) em um arquivo aberto para escrita."
   ]
  },
  {
   "cell_type": "code",
   "execution_count": 24,
   "metadata": {},
   "outputs": [],
   "source": [
    "with open('Dados/exemplo.json', 'w') as f:\n",
    "    json.dump(dados_exemplo, f)"
   ]
  },
  {
   "cell_type": "markdown",
   "metadata": {},
   "source": [
    "E podemos verificar que o dicionário foi salvo corretamente."
   ]
  },
  {
   "cell_type": "code",
   "execution_count": 25,
   "metadata": {},
   "outputs": [
    {
     "name": "stdout",
     "output_type": "stream",
     "text": [
      "[{\"nome\": \"Gustavo\", \"sobrenome\": \"Bragan\\u00e7a\", \"idade\": 34}, {\"nome\": \"Maria\", \"sobrenome\": \"Silva\", \"idade\": 40}]\n"
     ]
    }
   ],
   "source": [
    "with open('Dados/exemplo.json') as f:\n",
    "    print(f.read())"
   ]
  },
  {
   "cell_type": "markdown",
   "metadata": {},
   "source": [
    "## Arquivos XML "
   ]
  },
  {
   "cell_type": "markdown",
   "metadata": {},
   "source": [
    "O formato XML foi criado pelo *Wolrd Wide Web Consortium* a fim de ter uma linguagem de marcação (*markup language*) que fosse intelígivel para máquinas e seres humanos. Vamos fazer o *download* de um exemplo e abri-lo para vermos sua estrutura:"
   ]
  },
  {
   "cell_type": "code",
   "execution_count": 26,
   "metadata": {},
   "outputs": [
    {
     "name": "stdout",
     "output_type": "stream",
     "text": [
      "<?xml version=\"1.0\" encoding=\"UTF-8\"?>\n",
      "<breakfast_menu>\n",
      "  <food>\n",
      "    <name>Belgian Waffles</name>\n",
      "    <price>$5.95</price>\n",
      "    <description>Two of our famous Belgian Waffles with plenty of real maple syrup</description>\n",
      "    <calories>650</calories>\n",
      "  </food>\n",
      "  <food>\n",
      "    <name>Strawberry Belgian Waffles</name>\n",
      "    <price>$7.95</price>\n",
      "    <description>Light Belgian waffles covered with strawberries and whipped cream</description>\n",
      "    <calories>900</calories>\n",
      "  </food>\n",
      "  <food>\n",
      "    <name>Berry-Berry Belgian Waffles</name>\n",
      "    <price>$8.95</price>\n",
      "    <description>Light Belgian waffles covered with an assortment of fresh berries and whipped cream</description>\n",
      "    <calories>900</calories>\n",
      "  </food>\n",
      "  <food>\n",
      "    <name>French Toast</name>\n",
      "    <price>$4.50</price>\n",
      "    <description>Thick slices made from our homemade sourdough bread</description>\n",
      "    <calories>600</calories>\n",
      "  </food>\n",
      "  <food>\n",
      "    <name>Homestyle Breakfast</name>\n",
      "    <price>$6.95</price>\n",
      "    <description>Two eggs, bacon or sausage, toast, and our ever-popular hash browns</description>\n",
      "    <calories>950</calories>\n",
      "  </food>\n",
      "</breakfast_menu>\n",
      "\n"
     ]
    }
   ],
   "source": [
    "urlretrieve('https://www.w3schools.com/xml/simple.xml', 'Dados/simple.xml')\n",
    "with open('Dados/simple.xml') as f:\n",
    "    print(f.read())"
   ]
  },
  {
   "cell_type": "markdown",
   "metadata": {},
   "source": [
    "O arquivo consiste de um cardápio de café da manhã com 5 itens. Cada item está cercado pelas tags `<food>` e `</food>`. Para cada item, há quatro subitens: `name`, `price`, `description` e `calories`, também cercados pelas tags `<...>` e `</...>`.\n",
    "\n",
    "Vamos usar o Beatiful Soup que é uma biblioteca de terceiros para obter dados de arquivos XML e HTML:"
   ]
  },
  {
   "cell_type": "code",
   "execution_count": 27,
   "metadata": {},
   "outputs": [],
   "source": [
    "from bs4 import BeautifulSoup\n",
    "\n",
    "with open('Dados/simple.xml') as f:\n",
    "    soup = BeautifulSoup(f.read(), 'lxml')"
   ]
  },
  {
   "cell_type": "markdown",
   "metadata": {},
   "source": [
    "E vamos verificar a \"sopa\":"
   ]
  },
  {
   "cell_type": "code",
   "execution_count": 28,
   "metadata": {},
   "outputs": [
    {
     "name": "stdout",
     "output_type": "stream",
     "text": [
      "<?xml version=\"1.0\" encoding=\"UTF-8\"?>\n",
      "<html>\n",
      " <body>\n",
      "  <breakfast_menu>\n",
      "   <food>\n",
      "    <name>\n",
      "     Belgian Waffles\n",
      "    </name>\n",
      "    <price>\n",
      "     $5.95\n",
      "    </price>\n",
      "    <description>\n",
      "     Two of our famous Belgian Waffles with plenty of real maple syrup\n",
      "    </description>\n",
      "    <calories>\n",
      "     650\n",
      "    </calories>\n",
      "   </food>\n",
      "   <food>\n",
      "    <name>\n",
      "     Strawberry Belgian Waffles\n",
      "    </name>\n",
      "    <price>\n",
      "     $7.95\n",
      "    </price>\n",
      "    <description>\n",
      "     Light Belgian waffles covered with strawberries and whipped cream\n",
      "    </description>\n",
      "    <calories>\n",
      "     900\n",
      "    </calories>\n",
      "   </food>\n",
      "   <food>\n",
      "    <name>\n",
      "     Berry-Berry Belgian Waffles\n",
      "    </name>\n",
      "    <price>\n",
      "     $8.95\n",
      "    </price>\n",
      "    <description>\n",
      "     Light Belgian waffles covered with an assortment of fresh berries and whipped cream\n",
      "    </description>\n",
      "    <calories>\n",
      "     900\n",
      "    </calories>\n",
      "   </food>\n",
      "   <food>\n",
      "    <name>\n",
      "     French Toast\n",
      "    </name>\n",
      "    <price>\n",
      "     $4.50\n",
      "    </price>\n",
      "    <description>\n",
      "     Thick slices made from our homemade sourdough bread\n",
      "    </description>\n",
      "    <calories>\n",
      "     600\n",
      "    </calories>\n",
      "   </food>\n",
      "   <food>\n",
      "    <name>\n",
      "     Homestyle Breakfast\n",
      "    </name>\n",
      "    <price>\n",
      "     $6.95\n",
      "    </price>\n",
      "    <description>\n",
      "     Two eggs, bacon or sausage, toast, and our ever-popular hash browns\n",
      "    </description>\n",
      "    <calories>\n",
      "     950\n",
      "    </calories>\n",
      "   </food>\n",
      "  </breakfast_menu>\n",
      " </body>\n",
      "</html>\n"
     ]
    }
   ],
   "source": [
    "print(soup.prettify())"
   ]
  },
  {
   "cell_type": "markdown",
   "metadata": {},
   "source": [
    "Nosso arquivo parece OK. "
   ]
  },
  {
   "cell_type": "code",
   "execution_count": 29,
   "metadata": {},
   "outputs": [
    {
     "name": "stdout",
     "output_type": "stream",
     "text": [
      "name: Belgian Waffles\n",
      "price: $5.95\n",
      "description: Two of our famous Belgian Waffles with plenty of real maple syrup\n",
      "calories: 650\n",
      "\n",
      "name: Strawberry Belgian Waffles\n",
      "price: $7.95\n",
      "description: Light Belgian waffles covered with strawberries and whipped cream\n",
      "calories: 900\n",
      "\n",
      "name: Berry-Berry Belgian Waffles\n",
      "price: $8.95\n",
      "description: Light Belgian waffles covered with an assortment of fresh berries and whipped cream\n",
      "calories: 900\n",
      "\n",
      "name: French Toast\n",
      "price: $4.50\n",
      "description: Thick slices made from our homemade sourdough bread\n",
      "calories: 600\n",
      "\n",
      "name: Homestyle Breakfast\n",
      "price: $6.95\n",
      "description: Two eggs, bacon or sausage, toast, and our ever-popular hash browns\n",
      "calories: 950\n",
      "\n"
     ]
    }
   ],
   "source": [
    "for food in soup.find_all('food'):\n",
    "    for attr in food.find_all():\n",
    "        print(f'{attr.name}: {attr.string}')\n",
    "    print()"
   ]
  },
  {
   "cell_type": "markdown",
   "metadata": {},
   "source": [
    "Podemos iterar diretamente em cada subitem:"
   ]
  },
  {
   "cell_type": "code",
   "execution_count": 30,
   "metadata": {},
   "outputs": [
    {
     "name": "stdout",
     "output_type": "stream",
     "text": [
      "Belgian Waffles\n",
      "Strawberry Belgian Waffles\n",
      "Berry-Berry Belgian Waffles\n",
      "French Toast\n",
      "Homestyle Breakfast\n"
     ]
    }
   ],
   "source": [
    "for name in soup.find_all('name'):\n",
    "    print(name.string)"
   ]
  },
  {
   "cell_type": "markdown",
   "metadata": {},
   "source": [
    "Ou também podemos usar o comando `find` e `findall` para encontrar os elementos:"
   ]
  },
  {
   "cell_type": "markdown",
   "metadata": {},
   "source": [
    "Agora, vamos montar um arquivo XML a partir do nosso dicionário de exemplo:"
   ]
  },
  {
   "cell_type": "code",
   "execution_count": 31,
   "metadata": {},
   "outputs": [
    {
     "name": "stdout",
     "output_type": "stream",
     "text": [
      "<pessoa nome=\"Gustavo\">\n",
      " <sobrenome>\n",
      "  Bragança\n",
      " </sobrenome>\n",
      " <idade>\n",
      "  34\n",
      " </idade>\n",
      "</pessoa>\n",
      "<pessoa nome=\"Maria\">\n",
      " <sobrenome>\n",
      "  Silva\n",
      " </sobrenome>\n",
      " <idade>\n",
      "  40\n",
      " </idade>\n",
      "</pessoa>\n"
     ]
    }
   ],
   "source": [
    "soup = BeautifulSoup(features='lxml')\n",
    "\n",
    "for registro in dados_exemplo:\n",
    "    nome = soup.new_tag('pessoa', nome=registro['nome'])\n",
    "    \n",
    "    sobrenome = soup.new_tag('sobrenome')\n",
    "    sobrenome.string = registro['sobrenome']\n",
    "    nome.append(sobrenome)\n",
    "    \n",
    "    idade = soup.new_tag('idade')\n",
    "    idade.string = str(registro['idade'])\n",
    "    nome.append(idade)    \n",
    "    \n",
    "    soup.append(nome)\n",
    "\n",
    "print(soup.prettify())\n",
    "\n",
    "with open('Dados/dado_exemplo.xml', 'w') as f:\n",
    "    f.write(str(soup))"
   ]
  },
  {
   "cell_type": "markdown",
   "metadata": {},
   "source": [
    "Veja que aqui eu coloquei o `nome` dentro do item. Vamos ver como ficou:"
   ]
  },
  {
   "cell_type": "code",
   "execution_count": 32,
   "metadata": {},
   "outputs": [
    {
     "name": "stdout",
     "output_type": "stream",
     "text": [
      "<pessoa nome=\"Gustavo\"><sobrenome>Bragança</sobrenome><idade>34</idade></pessoa><pessoa nome=\"Maria\"><sobrenome>Silva</sobrenome><idade>40</idade></pessoa>\n"
     ]
    }
   ],
   "source": [
    "with open('Dados/dado_exemplo.xml') as f:\n",
    "    print(f.read())"
   ]
  },
  {
   "cell_type": "markdown",
   "metadata": {},
   "source": [
    "> Como faríamos para estruturar os dados dos passageiros do Titanic em XML?"
   ]
  },
  {
   "cell_type": "markdown",
   "metadata": {},
   "source": [
    "## Arquivos HTML"
   ]
  },
  {
   "cell_type": "markdown",
   "metadata": {},
   "source": [
    "Em alguns casos, vamos encontrar informações úteis em páginas da web servidas em HTML. E, assim, para obter estes dados, podemos construir um raspador de web (*web scraping*) com o Beautiful Soup.\n",
    "\n",
    "Vamos ver o exemplo da [documentação.](https://www.crummy.com/software/BeautifulSoup/bs4/doc/)"
   ]
  },
  {
   "cell_type": "code",
   "execution_count": 33,
   "metadata": {},
   "outputs": [],
   "source": [
    "# HTML de exemplo\n",
    "html_doc = \"\"\"\n",
    "<html><head><title>The Dormouse's story</title></head>\n",
    "<body>\n",
    "<p class=\"title\"><b>The Dormouse's story</b></p>\n",
    "\n",
    "<p class=\"story\">Once upon a time there were three little sisters; and their names were\n",
    "<a href=\"http://example.com/elsie\" class=\"sister\" id=\"link1\">Elsie</a>,\n",
    "<a href=\"http://example.com/lacie\" class=\"sister\" id=\"link2\">Lacie</a> and\n",
    "<a href=\"http://example.com/tillie\" class=\"sister\" id=\"link3\">Tillie</a>;\n",
    "and they lived at the bottom of a well.</p>\n",
    "\n",
    "<p class=\"story\">...</p>\n",
    "\"\"\""
   ]
  },
  {
   "cell_type": "markdown",
   "metadata": {},
   "source": [
    "E se renderizassemos nosso HTML em um navegados, ele se pareceria com o resultado abaixo."
   ]
  },
  {
   "cell_type": "code",
   "execution_count": 34,
   "metadata": {},
   "outputs": [
    {
     "data": {
      "text/html": [
       "\n",
       "<html><head><title>The Dormouse's story</title></head>\n",
       "<body>\n",
       "<p class=\"title\"><b>The Dormouse's story</b></p>\n",
       "\n",
       "<p class=\"story\">Once upon a time there were three little sisters; and their names were\n",
       "<a href=\"http://example.com/elsie\" class=\"sister\" id=\"link1\">Elsie</a>,\n",
       "<a href=\"http://example.com/lacie\" class=\"sister\" id=\"link2\">Lacie</a> and\n",
       "<a href=\"http://example.com/tillie\" class=\"sister\" id=\"link3\">Tillie</a>;\n",
       "and they lived at the bottom of a well.</p>\n",
       "\n",
       "<p class=\"story\">...</p>\n"
      ],
      "text/plain": [
       "<IPython.core.display.HTML object>"
      ]
     },
     "metadata": {},
     "output_type": "display_data"
    }
   ],
   "source": [
    "from IPython.core.display import HTML, display\n",
    "\n",
    "display(HTML(html_doc))"
   ]
  },
  {
   "cell_type": "markdown",
   "metadata": {},
   "source": [
    "Assim como no XML, o primeiro passo é criar a *sopa*:"
   ]
  },
  {
   "cell_type": "code",
   "execution_count": 35,
   "metadata": {},
   "outputs": [],
   "source": [
    "soup = BeautifulSoup(html_doc, 'html.parser')"
   ]
  },
  {
   "cell_type": "markdown",
   "metadata": {},
   "source": [
    "Note que o segundo atributo mudou e se refere ao tipo de arquivo que estamos tratando."
   ]
  },
  {
   "cell_type": "markdown",
   "metadata": {},
   "source": [
    "Podemos acessar diversos atributos desta página, começando pelo título:"
   ]
  },
  {
   "cell_type": "code",
   "execution_count": 36,
   "metadata": {},
   "outputs": [
    {
     "name": "stdout",
     "output_type": "stream",
     "text": [
      "<title>The Dormouse's story</title>\n",
      "title\n",
      "The Dormouse's story\n",
      "head\n"
     ]
    }
   ],
   "source": [
    "print(soup.title)\n",
    "print(soup.title.name)\n",
    "print(soup.title.string)\n",
    "print(soup.title.parent.name)"
   ]
  },
  {
   "cell_type": "markdown",
   "metadata": {},
   "source": [
    "Podemos acessar o parágrafo `<p>` e seus elements:"
   ]
  },
  {
   "cell_type": "code",
   "execution_count": 37,
   "metadata": {},
   "outputs": [
    {
     "name": "stdout",
     "output_type": "stream",
     "text": [
      "<p class=\"title\"><b>The Dormouse's story</b></p>\n",
      "title\n",
      "The Dormouse's story\n"
     ]
    }
   ],
   "source": [
    "print(soup.p)\n",
    "print(soup.p['class'][0])\n",
    "print(soup.p.text)"
   ]
  },
  {
   "cell_type": "markdown",
   "metadata": {},
   "source": [
    "Podemos achar por elemento:"
   ]
  },
  {
   "cell_type": "code",
   "execution_count": 38,
   "metadata": {},
   "outputs": [
    {
     "data": {
      "text/plain": [
       "<a class=\"sister\" href=\"http://example.com/tillie\" id=\"link3\">Tillie</a>"
      ]
     },
     "execution_count": 38,
     "metadata": {},
     "output_type": "execute_result"
    }
   ],
   "source": [
    "soup.find(id='link3')"
   ]
  },
  {
   "cell_type": "markdown",
   "metadata": {},
   "source": [
    "E também obter todos os links, tarefa essencial quando estamos construindo um `crawler`:"
   ]
  },
  {
   "cell_type": "code",
   "execution_count": 39,
   "metadata": {},
   "outputs": [
    {
     "name": "stdout",
     "output_type": "stream",
     "text": [
      "http://example.com/elsie\n",
      "http://example.com/lacie\n",
      "http://example.com/tillie\n"
     ]
    }
   ],
   "source": [
    "for link in soup.find_all('a'):\n",
    "    print(link.get('href'))"
   ]
  },
  {
   "cell_type": "markdown",
   "metadata": {},
   "source": [
    "E também obter todo o texto:"
   ]
  },
  {
   "cell_type": "code",
   "execution_count": 40,
   "metadata": {},
   "outputs": [
    {
     "name": "stdout",
     "output_type": "stream",
     "text": [
      "\n",
      "The Dormouse's story\n",
      "\n",
      "The Dormouse's story\n",
      "Once upon a time there were three little sisters; and their names were\n",
      "Elsie,\n",
      "Lacie and\n",
      "Tillie;\n",
      "and they lived at the bottom of a well.\n",
      "...\n",
      "\n"
     ]
    }
   ],
   "source": [
    "print(soup.get_text())"
   ]
  },
  {
   "cell_type": "markdown",
   "metadata": {},
   "source": [
    "## Bancos de Dados Relacional "
   ]
  },
  {
   "cell_type": "markdown",
   "metadata": {},
   "source": [
    "Quando falamos em dados, logo pensamos em um banco de dados relacional. Vamos ver agora como executar *queries* em um banco e, para isso, vamos usar um banco de dados SQLite de exemplo chamado Chinook disponibilizado [aqui](https://www.sqlitetutorial.net/sqlite-sample-database/)."
   ]
  },
  {
   "cell_type": "code",
   "execution_count": 41,
   "metadata": {},
   "outputs": [],
   "source": [
    "import zipfile\n",
    "\n",
    "filename, response = urlretrieve('https://www.sqlitetutorial.net/wp-content/uploads/2018/03/chinook.zip', 'Dados/chinook.zip')\n",
    "\n",
    "with zipfile.ZipFile(filename, 'r') as zip_ref:\n",
    "    zip_ref.extractall('Dados/')"
   ]
  },
  {
   "cell_type": "markdown",
   "metadata": {},
   "source": [
    "Vamos usar um banco SQLite, mas outros bancos relacionais seguem a mesma rotina:\n",
    "1. Criamos uma conexão,\n",
    "1. Criamos um cursor,\n",
    "1. Com o cursor, executamos a query,\n",
    "    * Se for um `SELECT`, recuperamos o resultado.\n",
    "1. Após terminar, fechamos o cursor e a conexão."
   ]
  },
  {
   "cell_type": "code",
   "execution_count": 42,
   "metadata": {},
   "outputs": [
    {
     "name": "stdout",
     "output_type": "stream",
     "text": [
      "[(1, 'For Those About To Rock (We Salute You)', 1, 1, 1, 'Angus Young, Malcolm Young, Brian Johnson', 343719, 11170334, 0.99), (2, 'Balls to the Wall', 2, 2, 1, None, 342562, 5510424, 0.99), (3, 'Fast As a Shark', 3, 2, 1, 'F. Baltes, S. Kaufman, U. Dirkscneider & W. Hoffman', 230619, 3990994, 0.99), (4, 'Restless and Wild', 3, 2, 1, 'F. Baltes, R.A. Smith-Diesel, S. Kaufman, U. Dirkscneider & W. Hoffman', 252051, 4331779, 0.99), (5, 'Princess of the Dawn', 3, 2, 1, 'Deaffy & R.A. Smith-Diesel', 375418, 6290521, 0.99), (6, 'Put The Finger On You', 1, 1, 1, 'Angus Young, Malcolm Young, Brian Johnson', 205662, 6713451, 0.99), (7, \"Let's Get It Up\", 1, 1, 1, 'Angus Young, Malcolm Young, Brian Johnson', 233926, 7636561, 0.99), (8, 'Inject The Venom', 1, 1, 1, 'Angus Young, Malcolm Young, Brian Johnson', 210834, 6852860, 0.99), (9, 'Snowballed', 1, 1, 1, 'Angus Young, Malcolm Young, Brian Johnson', 203102, 6599424, 0.99), (10, 'Evil Walks', 1, 1, 1, 'Angus Young, Malcolm Young, Brian Johnson', 263497, 8611245, 0.99)]\n"
     ]
    }
   ],
   "source": [
    "import sqlite3\n",
    "\n",
    "conn = sqlite3.connect('Dados/chinook.db')\n",
    "\n",
    "cursor = conn.cursor()\n",
    "\n",
    "cursor.execute(\n",
    "    \"\"\"\n",
    "    SELECT * FROM tracks limit 10\n",
    "    \"\"\"\n",
    ")\n",
    "print(cursor.fetchall())\n",
    "\n",
    "cursor.close()\n",
    "conn.close()"
   ]
  },
  {
   "cell_type": "markdown",
   "metadata": {},
   "source": [
    "Podemos iniciar uma nova base também:"
   ]
  },
  {
   "cell_type": "code",
   "execution_count": 43,
   "metadata": {},
   "outputs": [
    {
     "name": "stdout",
     "output_type": "stream",
     "text": [
      "[('2020-02-05 22:30:06.975645', 'COMPRA', 'GOOG', 100.0, 1448.0), ('2020-02-05 22:30:31.493621', 'COMPRA', 'GOOG', 100.0, 1448.0), ('2020-02-05 22:31:29.604182', 'COMPRA', 'GOOG', 100.0, 1448.0), ('2020-02-05 22:31:54.568795', 'COMPRA', 'GOOG', 100.0, 1448.0), ('2020-02-05 22:32:21.798184', 'COMPRA', 'GOOG', 100.0, 1448.0), ('2020-02-05 22:34:02.344803', 'COMPRA', 'GOOG', 600.0, 1464.309288035735), ('2020-02-05 22:34:04.333407', 'COMPRA', 'GOOG', 200.0, 1409.8598995390212), ('2020-02-05 22:34:05.922377', 'COMPRA', 'GOOG', 400.0, 1481.217735958009), ('2020-02-05 22:34:48.912286', 'COMPRA', 'GOOG', 700.0, 1446.8160558512316), ('2020-02-05 22:35:07.518374', 'COMPRA', 'GOOG', 900.0, 1481.652868992419), ('2020-02-05 23:09:28.917857', 'COMPRA', 'GOOG', 500.0, 1423.9080971557473), ('2020-02-19 20:58:09.695010', 'COMPRA', 'GOOG', 600.0, 1430.3001735683008), ('2020-03-23 21:12:01.457835', 'VENDE', 'GOOG', 700.0, 1473.0770025657089)]\n"
     ]
    }
   ],
   "source": [
    "from datetime import datetime\n",
    "import random\n",
    "\n",
    "conn = sqlite3.connect('Dados/meu_banco.db')\n",
    "\n",
    "cursor = conn.cursor()\n",
    "\n",
    "cursor.execute('''CREATE TABLE IF NOT EXISTS acoes\n",
    "             (created_at timestamp, trans text, simbolo text, qtd real, preco real)''')\n",
    "cursor.execute(\n",
    "    \"INSERT INTO acoes (created_at, trans, simbolo, qtd, preco) VALUES (?, ?, ?, ?, ?)\", \n",
    "    (\n",
    "        datetime.now(), \n",
    "        random.choice(['COMPRA', 'VENDE']),\n",
    "        'GOOG',\n",
    "        random.randint(1, 10)*100, \n",
    "        random.uniform(1400, 1500))\n",
    ")\n",
    "conn.commit()\n",
    "\n",
    "cursor.execute(\"Select * from acoes\")\n",
    "print(cursor.fetchall())\n",
    "\n",
    "cursor.close()\n",
    "conn.close()"
   ]
  },
  {
   "cell_type": "markdown",
   "metadata": {},
   "source": [
    "## APIs REST"
   ]
  },
  {
   "cell_type": "markdown",
   "metadata": {},
   "source": [
    "Hoje em dia, muitos aplicativos WEB se comunicam entre si através de APIs (*Acces Point Interface*) usando o protocolo REST (*Representational State Transfer*) que é uma convenção em torno de 4 *verbos* que são usados para:\n",
    "\n",
    "* `GET`: obter um recurso.\n",
    "* `POST`: cria um recurso  .\n",
    "* `PUT`: atualiza um recurso.\n",
    "* `DELETE`: deleta um recurso.\n",
    "\n",
    "\n",
    "Vamos ver o exemplo de dois, `GET` e `POST`:"
   ]
  },
  {
   "cell_type": "code",
   "execution_count": 44,
   "metadata": {},
   "outputs": [
    {
     "name": "stdout",
     "output_type": "stream",
     "text": [
      "200\n"
     ]
    }
   ],
   "source": [
    "import requests\n",
    "\n",
    "r = requests.get('https://jsonplaceholder.typicode.com/posts?id=1')\n",
    "print(r.status_code)\n",
    "assert r.status_code == 200 # success"
   ]
  },
  {
   "cell_type": "markdown",
   "metadata": {},
   "source": [
    "Acima fizemos um `GET` a fim de obter um recurso, que neste caso foi um `post` cujo `id` é igual a 1. Tudo que está além do ponto de interrogação é chamado de *query string* e é utilizado para filtrar o resultado. \n",
    "\n",
    "Obtemos a resposta em JSON no atributo `.text` da resposta."
   ]
  },
  {
   "cell_type": "code",
   "execution_count": 45,
   "metadata": {},
   "outputs": [
    {
     "name": "stdout",
     "output_type": "stream",
     "text": [
      "[\n",
      "  {\n",
      "    \"userId\": 1,\n",
      "    \"id\": 1,\n",
      "    \"title\": \"sunt aut facere repellat provident occaecati excepturi optio reprehenderit\",\n",
      "    \"body\": \"quia et suscipit\\nsuscipit recusandae consequuntur expedita et cum\\nreprehenderit molestiae ut ut quas totam\\nnostrum rerum est autem sunt rem eveniet architecto\"\n",
      "  }\n",
      "]\n"
     ]
    }
   ],
   "source": [
    "print(r.text)"
   ]
  },
  {
   "cell_type": "markdown",
   "metadata": {},
   "source": [
    "Agora vamos fazer um `POST` e adicionar informação na API. A estrutura para envio é um pouco mais complexa: além do *endpoint* (endereço da API), precisamos do dado a ser enviado em JSON e informar no cabeçalho o formato do conteúdo sendo enviado."
   ]
  },
  {
   "cell_type": "code",
   "execution_count": 46,
   "metadata": {},
   "outputs": [],
   "source": [
    "r = requests.post(\n",
    "    'https://jsonplaceholder.typicode.com/posts',\n",
    "    data =  json.dumps(\n",
    "        dict(\n",
    "            title= 'foo',\n",
    "            body= 'bar',\n",
    "            userId= 1\n",
    "        )\n",
    "    ),\n",
    "        \n",
    "    headers= {\n",
    "      \"Content-type\": \"application/json; charset=UTF-8\"\n",
    "    }\n",
    ")\n",
    "assert r.status_code == 201 # created"
   ]
  }
 ],
 "metadata": {
  "kernelspec": {
   "display_name": "Python 3",
   "language": "python",
   "name": "python3"
  },
  "language_info": {
   "codemirror_mode": {
    "name": "ipython",
    "version": 3
   },
   "file_extension": ".py",
   "mimetype": "text/x-python",
   "name": "python",
   "nbconvert_exporter": "python",
   "pygments_lexer": "ipython3",
   "version": "3.7.6"
  },
  "toc-autonumbering": true,
  "toc-showmarkdowntxt": false
 },
 "nbformat": 4,
 "nbformat_minor": 4
}
