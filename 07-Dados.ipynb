{
 "cells": [
  {
   "cell_type": "markdown",
   "metadata": {},
   "source": [
    "# Interagindo com Dados Externos"
   ]
  },
  {
   "cell_type": "markdown",
   "metadata": {},
   "source": [
    "Nesta seção, veremos como usar o Python para interagir com dados externos de diversas fontes. "
   ]
  },
  {
   "cell_type": "markdown",
   "metadata": {},
   "source": [
    "## Arquivos em Disco"
   ]
  },
  {
   "cell_type": "markdown",
   "metadata": {},
   "source": [
    "### Abrindo Arquivos para Leitura"
   ]
  },
  {
   "cell_type": "markdown",
   "metadata": {},
   "source": [
    "Em anexo, na pasta `./Dados`, nós temos uma cópia do livro [Dom Casmurro][dom_casmurro] de [Machado de Assis][machado_de_assis] obtido no site do [Projeto Gutenberg][gutenberg]. Para abri-lo, usamos o comando `open` do Python.\n",
    "\n",
    "\n",
    "[dom_casmurro]: https://pt.wikipedia.org/wiki/Dom_Casmurro\n",
    "[machado_de_assis]: https://pt.wikipedia.org/wiki/Machado_de_Assis\n",
    "[gutenberg]: http://www.gutenberg.org/wiki/Main_Page"
   ]
  },
  {
   "cell_type": "code",
   "execution_count": 2,
   "metadata": {},
   "outputs": [
    {
     "data": {
      "text/plain": [
       "<_io.TextIOWrapper name='Dados/machado_de_assis_dom_casmurro.txt' mode='r' encoding='UTF-8'>"
      ]
     },
     "execution_count": 2,
     "metadata": {},
     "output_type": "execute_result"
    }
   ],
   "source": [
    "dom_casmurro = open('Dados/machado_de_assis_dom_casmurro.txt')\n",
    "dom_casmurro"
   ]
  },
  {
   "cell_type": "markdown",
   "metadata": {},
   "source": [
    "Para ler todo o conteúdo do arquivo, basta usar o método `read`."
   ]
  },
  {
   "cell_type": "code",
   "execution_count": 3,
   "metadata": {},
   "outputs": [
    {
     "data": {
      "text/plain": [
       "\"\\ufeffThe Project Gutenberg EBook of Dom Casmurro, by Machado de Assis\\n\\nThis eBook is for the use of anyone anywhere in the United States and most\\nother parts of the world at no cost and with almost no restrictions\\nwhatsoever.  You may copy it, give it away or re-use it under the terms of\\nthe Project Gutenberg License included with this eBook or online at\\nwww.gutenberg.org.  If you are not located in the United States, you'll have\\nto check the laws of the country where you are located before using this ebook.\\n\\nTitle: Dom Casmurro\\n\\nAuthor: Machado de Assis\\n\\nRelease Date: October 15, 2017 [EBook #55752]\\n\\nLanguage: Portuguese\\n\\n\\n*** START OF THIS PROJECT GUTENBERG EBOOK DOM CASMURRO ***\\n\\n\\n\\n\\nProduced by Laura Natal Rodriguez & Marc D'Hooghe at Free\\nLiterature (online soon in an extended version,also linking\\nto free sources for education worldwide ... MOOC's,\\neducational materials,...) (Images generously made available\\nby the Bibliotheca Nacional Digital Brasil.)\\n\\n\\n\\n\\n\\nDOM CASMURRO\\n\\nPOR\\n\\nMACHADO D\""
      ]
     },
     "execution_count": 3,
     "metadata": {},
     "output_type": "execute_result"
    }
   ],
   "source": [
    "dom_casmurro.read()[:1000] # Mostrando só os primeiros 1000 caracteres"
   ]
  },
  {
   "cell_type": "markdown",
   "metadata": {},
   "source": [
    "Ao invés de retornar todo o arquivo como uma `string`, podemos usar o método `readlines` para nos retornar cada linha em uma `string` dentro de uma lista."
   ]
  },
  {
   "cell_type": "code",
   "execution_count": 4,
   "metadata": {},
   "outputs": [
    {
     "data": {
      "text/plain": [
       "['\\ufeffThe Project Gutenberg EBook of Dom Casmurro, by Machado de Assis\\n',\n",
       " '\\n',\n",
       " 'This eBook is for the use of anyone anywhere in the United States and most\\n',\n",
       " 'other parts of the world at no cost and with almost no restrictions\\n',\n",
       " 'whatsoever.  You may copy it, give it away or re-use it under the terms of\\n',\n",
       " 'the Project Gutenberg License included with this eBook or online at\\n',\n",
       " \"www.gutenberg.org.  If you are not located in the United States, you'll have\\n\",\n",
       " 'to check the laws of the country where you are located before using this ebook.\\n',\n",
       " '\\n',\n",
       " 'Title: Dom Casmurro\\n']"
      ]
     },
     "execution_count": 4,
     "metadata": {},
     "output_type": "execute_result"
    }
   ],
   "source": [
    "dom_casmurro.seek(0) # retorna o início do arquivo\n",
    "dom_casmurro.readlines()[:10] # só mostra as 10 primeiras linhas"
   ]
  },
  {
   "cell_type": "markdown",
   "metadata": {},
   "source": [
    "Se o arquivo for muito grande, pode ser interessante ler linha por linha e para isso usamos o método `readline`"
   ]
  },
  {
   "cell_type": "code",
   "execution_count": 5,
   "metadata": {},
   "outputs": [
    {
     "name": "stdout",
     "output_type": "stream",
     "text": [
      "﻿The Project Gutenberg EBook of Dom Casmurro, by Machado de Assis\n",
      "\n",
      "\n",
      "\n",
      "This eBook is for the use of anyone anywhere in the United States and most\n",
      "\n",
      "other parts of the world at no cost and with almost no restrictions\n",
      "\n",
      "whatsoever.  You may copy it, give it away or re-use it under the terms of\n",
      "\n",
      "the Project Gutenberg License included with this eBook or online at\n",
      "\n",
      "www.gutenberg.org.  If you are not located in the United States, you'll have\n",
      "\n",
      "to check the laws of the country where you are located before using this ebook.\n",
      "\n",
      "\n",
      "\n",
      "Title: Dom Casmurro\n",
      "\n"
     ]
    }
   ],
   "source": [
    "dom_casmurro.seek(0)\n",
    "\n",
    "for i in range(10):\n",
    "    print(dom_casmurro.readline())"
   ]
  },
  {
   "cell_type": "markdown",
   "metadata": {},
   "source": [
    "Ao terminar com o arquivo, devemos sempre fechá-lo para liberar o espaçõ em memória:"
   ]
  },
  {
   "cell_type": "code",
   "execution_count": 6,
   "metadata": {},
   "outputs": [],
   "source": [
    "dom_casmurro.close()"
   ]
  },
  {
   "cell_type": "markdown",
   "metadata": {},
   "source": [
    "E podemos verificar se o arquivo foi fechado com sucesso:"
   ]
  },
  {
   "cell_type": "code",
   "execution_count": 7,
   "metadata": {},
   "outputs": [
    {
     "data": {
      "text/plain": [
       "True"
      ]
     },
     "execution_count": 7,
     "metadata": {},
     "output_type": "execute_result"
    }
   ],
   "source": [
    "dom_casmurro.closed"
   ]
  },
  {
   "cell_type": "markdown",
   "metadata": {},
   "source": [
    "### Escrevendo em Arquivos"
   ]
  },
  {
   "cell_type": "markdown",
   "metadata": {},
   "source": [
    "O método `open` para abrir arquivos possui outros modos. Acima, utilizamos o modo de leitura `r` que é o padrão. Vamos usar agora o modo `w` de escrita."
   ]
  },
  {
   "cell_type": "code",
   "execution_count": 8,
   "metadata": {},
   "outputs": [],
   "source": [
    "meu_texto = open('Dados/meu_texto.txt', 'w')"
   ]
  },
  {
   "cell_type": "code",
   "execution_count": 9,
   "metadata": {},
   "outputs": [],
   "source": [
    "meu_texto.write('1\\n')\n",
    "meu_texto.writelines(['2\\n', '3\\n']) # Usado para escrever uma lista de strings"
   ]
  },
  {
   "cell_type": "code",
   "execution_count": 10,
   "metadata": {},
   "outputs": [],
   "source": [
    "meu_texto.close()"
   ]
  },
  {
   "cell_type": "markdown",
   "metadata": {},
   "source": [
    "Ao usar o modo `w`, o conteúdo do arquivo é limpo ao ser aberto. Se quiser, podemos abrir de tal forma que só é permitido adicionar novas linhas, mantendo as linhas originais intactas. Para isso, usamos o modo `a` de `append`:"
   ]
  },
  {
   "cell_type": "code",
   "execution_count": 11,
   "metadata": {},
   "outputs": [],
   "source": [
    "meu_texto = open('Dados/meu_texto.txt', 'a')\n",
    "meu_texto.writelines(['4\\n', '5\\n']) \n",
    "meu_texto.close()"
   ]
  },
  {
   "cell_type": "markdown",
   "metadata": {},
   "source": [
    "Vamos abrir o arquivo para leitura e verificar se foi excrito corretamente:"
   ]
  },
  {
   "cell_type": "code",
   "execution_count": 12,
   "metadata": {},
   "outputs": [
    {
     "name": "stdout",
     "output_type": "stream",
     "text": [
      "1\n",
      "2\n",
      "3\n",
      "4\n",
      "5\n",
      "\n"
     ]
    }
   ],
   "source": [
    "meu_texto = open('Dados/meu_texto.txt')\n",
    "print(meu_texto.read())\n",
    "meu_texto.close()"
   ]
  },
  {
   "cell_type": "markdown",
   "metadata": {},
   "source": [
    "### Abrindo Arquivos com `with`"
   ]
  },
  {
   "cell_type": "markdown",
   "metadata": {},
   "source": [
    "Ao abrir arquivos, é possível que esqueçamos de fechar após utiliá-lo. Para evitar isso podemos usar o gerenciador de contexto (*context manager*) `with`, que fecha o arquivo após o término da execução do bloco de código:"
   ]
  },
  {
   "cell_type": "code",
   "execution_count": 18,
   "metadata": {},
   "outputs": [
    {
     "name": "stdout",
     "output_type": "stream",
     "text": [
      "1\n",
      "2\n",
      "3\n",
      "4\n",
      "5\n",
      "\n",
      "O arquivo foi fechado? True\n"
     ]
    }
   ],
   "source": [
    "with open('Dados/meu_texto.txt') as f:\n",
    "    print(f.read())\n",
    "    \n",
    "print('O arquivo foi fechado?', f.closed)"
   ]
  },
  {
   "cell_type": "markdown",
   "metadata": {},
   "source": [
    "> Quais são as palavras mais exóticas, ou seja, as menos usadas no Dom Casmurro? E as mais usadas? \n",
    ">\n",
    "> Crie um contador de palavras pare responder as perguntas acima. Aproveite também para escrever o resultado em um arquivo no disco. "
   ]
  },
  {
   "cell_type": "markdown",
   "metadata": {},
   "source": [
    "## Obtendo Arquivos da Internet "
   ]
  },
  {
   "cell_type": "markdown",
   "metadata": {},
   "source": [
    "Em algumas ocasiões, os dados que vamos precisar estará disponibilizado na Internet e precisaremos trazê-los para o disco. Como exemplo, vamos fazer o *download*  dos dados dos passsageiros do Titanic."
   ]
  },
  {
   "cell_type": "code",
   "execution_count": 30,
   "metadata": {},
   "outputs": [
    {
     "data": {
      "text/plain": [
       "('Dados/titanic.csv', <http.client.HTTPMessage at 0x7fcff4605050>)"
      ]
     },
     "execution_count": 30,
     "metadata": {},
     "output_type": "execute_result"
    }
   ],
   "source": [
    "from urllib.request import urlretrieve\n",
    "\n",
    "url = 'https://raw.githubusercontent.com/mwaskom/seaborn-data/master/titanic.csv'\n",
    "\n",
    "urlretrieve(url, 'Dados/titanic.csv')"
   ]
  },
  {
   "cell_type": "markdown",
   "metadata": {},
   "source": [
    "E agora verificamos se os dados foram trazidos com sucesso:"
   ]
  },
  {
   "cell_type": "code",
   "execution_count": 41,
   "metadata": {},
   "outputs": [
    {
     "name": "stdout",
     "output_type": "stream",
     "text": [
      "survived,pclass,sex,age,sibsp,parch,fare,embarked,class,who,adult_male,deck,embark_town,alive,alone\n",
      "\n",
      "0,3,male,22.0,1,0,7.25,S,Third,man,True,,Southampton,no,False\n",
      "\n",
      "1,1,female,38.0,1,0,71.2833,C,First,woman,False,C,Cherbourg,yes,False\n",
      "\n",
      "1,3,female,26.0,0,0,7.925,S,Third,woman,False,,Southampton,yes,True\n",
      "\n",
      "1,1,female,35.0,1,0,53.1,S,First,woman,False,C,Southampton,yes,False\n",
      "\n",
      "0,3,male,35.0,0,0,8.05,S,Third,man,True,,Southampton,no,True\n",
      "\n"
     ]
    }
   ],
   "source": [
    "with open('Dados/titanic.csv') as f:\n",
    "    for i in range(6):\n",
    "        print(f.readline()) # as 6 primeiras linhas"
   ]
  },
  {
   "cell_type": "markdown",
   "metadata": {},
   "source": [
    "O arquivo foi trazido com sucesso e foi possível abrir e mostra as 6 primeiras linhas. "
   ]
  },
  {
   "cell_type": "code",
   "execution_count": null,
   "metadata": {},
   "outputs": [],
   "source": []
  },
  {
   "cell_type": "markdown",
   "metadata": {},
   "source": [
    "Para isso, vamos usar a biblioteca `requests` ([link][requests]), definida como uma \"biblioteca HTTP licensiada sob Apache2, escrita em Python, para seres humanos\". Como exemplo, vamos obter a cópia do livro Dom Casmurro de Machado de Assis que usamos acima:\n",
    "\n",
    "[requests]: https://requests.readthedocs.io/pt_BR/latest/index.html"
   ]
  },
  {
   "cell_type": "code",
   "execution_count": 19,
   "metadata": {},
   "outputs": [],
   "source": [
    "import requests\n",
    "\n",
    "url = 'http://www.gutenberg.org/cache/epub/55752/pg55752.txt'\n",
    "\n",
    "r = requests.get(url)\n",
    "assert r.status_code == 200"
   ]
  },
  {
   "cell_type": "markdown",
   "metadata": {},
   "source": [
    "No código acima, importamos a biblioteca `requests` e fizemos uma requisição na URL que aponta para o livro Dom Casmurro. Na última linha, usamos um `assert` para verificar se a condição dada é verdadeira. Se fosse falsa, o `assert` retorna um erro do tipo `AssertionError`. Esta é uma ótima forma de verificar se o código está fazendo o que foi planejado para fazer.\n",
    "\n",
    "A condição `r.status_code == 200` verifica se a resposta da requisição foi retornada com sucesso ([código 200][status_code_200]).\n",
    "\n",
    "E o conteúdo da resposta, que, neste caso, é o texto do livro, está disponível no atributo `.text`.\n",
    "\n",
    "[status_code_200]: https://developer.mozilla.org/pt-BR/docs/Web/HTTP/Status/200"
   ]
  },
  {
   "cell_type": "code",
   "execution_count": 22,
   "metadata": {},
   "outputs": [
    {
     "data": {
      "text/plain": [
       "\"\\ufeffThe Project Gutenberg EBook of Dom Casmurro, by Machado de Assis\\r\\n\\r\\nThis eBook is for the use of anyone anywhere in the United States and most\\r\\nother parts of the world at no cost and with almost no restrictions\\r\\nwhatsoever.  You may copy it, give it away or re-use it under the terms of\\r\\nthe Project Gutenberg License included with this eBook or online at\\r\\nwww.gutenberg.org.  If you are not located in the United States, you'll have\\r\\nto check the laws of the country where you are located before using this ebook.\\r\\n\\r\\nTitle: Dom Casmurro\\r\\n\\r\\nAuthor: Machado de Assis\\r\\n\\r\\nRelease Date: October 15, 2017 [EBook #55752]\\r\\n\\r\\nLanguage: Portuguese\\r\\n\\r\\n\\r\\n*** START OF THIS PROJECT GUTENBERG EBOOK DOM CASMURRO ***\\r\\n\\r\\n\\r\\n\\r\\n\\r\\nProduced by Laura Natal Rodriguez & Marc D'Hooghe at Free\\r\\nLiterature (online soon in an extended version,also linking\\r\\nto free sources for education worldwide ... MOOC's,\\r\\neducational materials,...) (Images generously made available\\r\\nby the Bibliotheca Nacional Digital Brasil.)\\r\\n\\r\\n\\r\\n\\r\""
      ]
     },
     "execution_count": 22,
     "metadata": {},
     "output_type": "execute_result"
    }
   ],
   "source": [
    "r.text[:1000] # Mostrando só os primeiros 1000 caracteres"
   ]
  },
  {
   "cell_type": "markdown",
   "metadata": {},
   "source": [
    "## Arquivos Tabulares (CSV, TSV, ...)"
   ]
  },
  {
   "cell_type": "markdown",
   "metadata": {},
   "source": [
    "## Arquivos JSON"
   ]
  },
  {
   "cell_type": "markdown",
   "metadata": {},
   "source": [
    "## Arquivos XML "
   ]
  },
  {
   "cell_type": "markdown",
   "metadata": {},
   "source": [
    "## Arquivos HTML "
   ]
  },
  {
   "cell_type": "markdown",
   "metadata": {},
   "source": [
    "## Bancos de Dados Relacional "
   ]
  },
  {
   "cell_type": "markdown",
   "metadata": {},
   "source": [
    "## APIs REST"
   ]
  }
 ],
 "metadata": {
  "kernelspec": {
   "display_name": "Python 3",
   "language": "python",
   "name": "python3"
  },
  "language_info": {
   "codemirror_mode": {
    "name": "ipython",
    "version": 3
   },
   "file_extension": ".py",
   "mimetype": "text/x-python",
   "name": "python",
   "nbconvert_exporter": "python",
   "pygments_lexer": "ipython3",
   "version": "3.7.6"
  },
  "toc-autonumbering": true,
  "toc-showmarkdowntxt": false
 },
 "nbformat": 4,
 "nbformat_minor": 4
}
